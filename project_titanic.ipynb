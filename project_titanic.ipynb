{
 "cells": [
  {
   "cell_type": "code",
   "execution_count": 1,
   "id": "979530e5",
   "metadata": {},
   "outputs": [],
   "source": [
    "import pandas as pd "
   ]
  },
  {
   "cell_type": "markdown",
   "id": "d9fd02ed",
   "metadata": {},
   "source": [
    "### Read Train Dataset"
   ]
  },
  {
   "cell_type": "code",
   "execution_count": 2,
   "id": "dd258f0f",
   "metadata": {},
   "outputs": [],
   "source": [
    "df = pd.read_csv('train.csv')"
   ]
  },
  {
   "cell_type": "markdown",
   "id": "f9b8229c",
   "metadata": {},
   "source": [
    "This Dataset is different from Orginal Dataset in kaggle and I added some error in it manually. So first of all we need do some Data Engineering stuff to recognize and solve the issues"
   ]
  },
  {
   "cell_type": "code",
   "execution_count": 3,
   "id": "4d2ade5b",
   "metadata": {},
   "outputs": [
    {
     "data": {
      "text/html": [
       "<div>\n",
       "<style scoped>\n",
       "    .dataframe tbody tr th:only-of-type {\n",
       "        vertical-align: middle;\n",
       "    }\n",
       "\n",
       "    .dataframe tbody tr th {\n",
       "        vertical-align: top;\n",
       "    }\n",
       "\n",
       "    .dataframe thead th {\n",
       "        text-align: right;\n",
       "    }\n",
       "</style>\n",
       "<table border=\"1\" class=\"dataframe\">\n",
       "  <thead>\n",
       "    <tr style=\"text-align: right;\">\n",
       "      <th></th>\n",
       "      <th>PassengerId</th>\n",
       "      <th>Survived</th>\n",
       "      <th>Pclass</th>\n",
       "      <th>Name</th>\n",
       "      <th>Sex</th>\n",
       "      <th>Age</th>\n",
       "      <th>SibSp</th>\n",
       "      <th>Parch</th>\n",
       "      <th>Ticket</th>\n",
       "      <th>Fare</th>\n",
       "      <th>Cabin</th>\n",
       "      <th>Embarked</th>\n",
       "    </tr>\n",
       "  </thead>\n",
       "  <tbody>\n",
       "    <tr>\n",
       "      <th>0</th>\n",
       "      <td>1</td>\n",
       "      <td>0</td>\n",
       "      <td>3</td>\n",
       "      <td>Braund, Mr. Owen Harris</td>\n",
       "      <td>male</td>\n",
       "      <td>22.0</td>\n",
       "      <td>1</td>\n",
       "      <td>0</td>\n",
       "      <td>A/5 21171</td>\n",
       "      <td>7.2500</td>\n",
       "      <td>NaN</td>\n",
       "      <td>S</td>\n",
       "    </tr>\n",
       "    <tr>\n",
       "      <th>1</th>\n",
       "      <td>2</td>\n",
       "      <td>1</td>\n",
       "      <td>1</td>\n",
       "      <td>Cumings, Mrs. John Bradley (Florence Briggs Th...</td>\n",
       "      <td>female</td>\n",
       "      <td>38.0</td>\n",
       "      <td>1</td>\n",
       "      <td>0</td>\n",
       "      <td>PC 17599</td>\n",
       "      <td>71.2833</td>\n",
       "      <td>C85</td>\n",
       "      <td>C</td>\n",
       "    </tr>\n",
       "    <tr>\n",
       "      <th>2</th>\n",
       "      <td>3</td>\n",
       "      <td>1</td>\n",
       "      <td>3</td>\n",
       "      <td>Heikkinen, Miss. Laina</td>\n",
       "      <td>female</td>\n",
       "      <td>26.0</td>\n",
       "      <td>0</td>\n",
       "      <td>0</td>\n",
       "      <td>STON/O2. 3101282</td>\n",
       "      <td>7.9250</td>\n",
       "      <td>NaN</td>\n",
       "      <td>S</td>\n",
       "    </tr>\n",
       "    <tr>\n",
       "      <th>3</th>\n",
       "      <td>4</td>\n",
       "      <td>1</td>\n",
       "      <td>1</td>\n",
       "      <td>Futrelle, Mrs. Jacques Heath (Lily May Peel)</td>\n",
       "      <td>female</td>\n",
       "      <td>35.0</td>\n",
       "      <td>1</td>\n",
       "      <td>0</td>\n",
       "      <td>113803</td>\n",
       "      <td>53.1000</td>\n",
       "      <td>C123</td>\n",
       "      <td>S</td>\n",
       "    </tr>\n",
       "    <tr>\n",
       "      <th>4</th>\n",
       "      <td>5</td>\n",
       "      <td>0</td>\n",
       "      <td>3</td>\n",
       "      <td>Allen, Mr. William Henry</td>\n",
       "      <td>male</td>\n",
       "      <td>35.0</td>\n",
       "      <td>0</td>\n",
       "      <td>0</td>\n",
       "      <td>373450</td>\n",
       "      <td>8.0500</td>\n",
       "      <td>NaN</td>\n",
       "      <td>S</td>\n",
       "    </tr>\n",
       "  </tbody>\n",
       "</table>\n",
       "</div>"
      ],
      "text/plain": [
       "   PassengerId  Survived  Pclass  \\\n",
       "0            1         0       3   \n",
       "1            2         1       1   \n",
       "2            3         1       3   \n",
       "3            4         1       1   \n",
       "4            5         0       3   \n",
       "\n",
       "                                                Name     Sex   Age SibSp  \\\n",
       "0                            Braund, Mr. Owen Harris    male  22.0     1   \n",
       "1  Cumings, Mrs. John Bradley (Florence Briggs Th...  female  38.0     1   \n",
       "2                             Heikkinen, Miss. Laina  female  26.0     0   \n",
       "3       Futrelle, Mrs. Jacques Heath (Lily May Peel)  female  35.0     1   \n",
       "4                           Allen, Mr. William Henry    male  35.0     0   \n",
       "\n",
       "  Parch            Ticket     Fare Cabin Embarked  \n",
       "0     0         A/5 21171   7.2500   NaN        S  \n",
       "1     0          PC 17599  71.2833   C85        C  \n",
       "2     0  STON/O2. 3101282   7.9250   NaN        S  \n",
       "3     0            113803  53.1000  C123        S  \n",
       "4     0            373450   8.0500   NaN        S  "
      ]
     },
     "execution_count": 3,
     "metadata": {},
     "output_type": "execute_result"
    }
   ],
   "source": [
    "df.head()"
   ]
  },
  {
   "cell_type": "code",
   "execution_count": 4,
   "id": "92bf6349",
   "metadata": {},
   "outputs": [
    {
     "name": "stdout",
     "output_type": "stream",
     "text": [
      "<class 'pandas.core.frame.DataFrame'>\n",
      "RangeIndex: 891 entries, 0 to 890\n",
      "Data columns (total 12 columns):\n",
      " #   Column       Non-Null Count  Dtype  \n",
      "---  ------       --------------  -----  \n",
      " 0   PassengerId  891 non-null    int64  \n",
      " 1   Survived     891 non-null    int64  \n",
      " 2   Pclass       891 non-null    int64  \n",
      " 3   Name         891 non-null    object \n",
      " 4   Sex          891 non-null    object \n",
      " 5   Age          715 non-null    float64\n",
      " 6   SibSp        891 non-null    object \n",
      " 7   Parch        891 non-null    object \n",
      " 8   Ticket       891 non-null    object \n",
      " 9   Fare         891 non-null    float64\n",
      " 10  Cabin        204 non-null    object \n",
      " 11  Embarked     889 non-null    object \n",
      "dtypes: float64(2), int64(3), object(7)\n",
      "memory usage: 83.7+ KB\n"
     ]
    }
   ],
   "source": [
    "df.info()"
   ]
  },
  {
   "cell_type": "code",
   "execution_count": 5,
   "id": "f7d4f95e",
   "metadata": {},
   "outputs": [
    {
     "data": {
      "text/html": [
       "<div>\n",
       "<style scoped>\n",
       "    .dataframe tbody tr th:only-of-type {\n",
       "        vertical-align: middle;\n",
       "    }\n",
       "\n",
       "    .dataframe tbody tr th {\n",
       "        vertical-align: top;\n",
       "    }\n",
       "\n",
       "    .dataframe thead th {\n",
       "        text-align: right;\n",
       "    }\n",
       "</style>\n",
       "<table border=\"1\" class=\"dataframe\">\n",
       "  <thead>\n",
       "    <tr style=\"text-align: right;\">\n",
       "      <th></th>\n",
       "      <th>PassengerId</th>\n",
       "      <th>Survived</th>\n",
       "      <th>Pclass</th>\n",
       "      <th>Age</th>\n",
       "      <th>Fare</th>\n",
       "    </tr>\n",
       "  </thead>\n",
       "  <tbody>\n",
       "    <tr>\n",
       "      <th>count</th>\n",
       "      <td>891.000000</td>\n",
       "      <td>891.000000</td>\n",
       "      <td>891.000000</td>\n",
       "      <td>715.000000</td>\n",
       "      <td>891.000000</td>\n",
       "    </tr>\n",
       "    <tr>\n",
       "      <th>mean</th>\n",
       "      <td>446.000000</td>\n",
       "      <td>0.383838</td>\n",
       "      <td>2.353535</td>\n",
       "      <td>30.065972</td>\n",
       "      <td>607.347867</td>\n",
       "    </tr>\n",
       "    <tr>\n",
       "      <th>std</th>\n",
       "      <td>257.353842</td>\n",
       "      <td>0.486592</td>\n",
       "      <td>1.355652</td>\n",
       "      <td>17.457358</td>\n",
       "      <td>17170.623346</td>\n",
       "    </tr>\n",
       "    <tr>\n",
       "      <th>min</th>\n",
       "      <td>1.000000</td>\n",
       "      <td>0.000000</td>\n",
       "      <td>1.000000</td>\n",
       "      <td>-31.000000</td>\n",
       "      <td>-13.000000</td>\n",
       "    </tr>\n",
       "    <tr>\n",
       "      <th>25%</th>\n",
       "      <td>223.500000</td>\n",
       "      <td>0.000000</td>\n",
       "      <td>2.000000</td>\n",
       "      <td>20.000000</td>\n",
       "      <td>7.895800</td>\n",
       "    </tr>\n",
       "    <tr>\n",
       "      <th>50%</th>\n",
       "      <td>446.000000</td>\n",
       "      <td>0.000000</td>\n",
       "      <td>3.000000</td>\n",
       "      <td>28.000000</td>\n",
       "      <td>14.454200</td>\n",
       "    </tr>\n",
       "    <tr>\n",
       "      <th>75%</th>\n",
       "      <td>668.500000</td>\n",
       "      <td>1.000000</td>\n",
       "      <td>3.000000</td>\n",
       "      <td>38.000000</td>\n",
       "      <td>31.000000</td>\n",
       "    </tr>\n",
       "    <tr>\n",
       "      <th>max</th>\n",
       "      <td>891.000000</td>\n",
       "      <td>1.000000</td>\n",
       "      <td>33.000000</td>\n",
       "      <td>210.000000</td>\n",
       "      <td>512566.600000</td>\n",
       "    </tr>\n",
       "  </tbody>\n",
       "</table>\n",
       "</div>"
      ],
      "text/plain": [
       "       PassengerId    Survived      Pclass         Age           Fare\n",
       "count   891.000000  891.000000  891.000000  715.000000     891.000000\n",
       "mean    446.000000    0.383838    2.353535   30.065972     607.347867\n",
       "std     257.353842    0.486592    1.355652   17.457358   17170.623346\n",
       "min       1.000000    0.000000    1.000000  -31.000000     -13.000000\n",
       "25%     223.500000    0.000000    2.000000   20.000000       7.895800\n",
       "50%     446.000000    0.000000    3.000000   28.000000      14.454200\n",
       "75%     668.500000    1.000000    3.000000   38.000000      31.000000\n",
       "max     891.000000    1.000000   33.000000  210.000000  512566.600000"
      ]
     },
     "execution_count": 5,
     "metadata": {},
     "output_type": "execute_result"
    }
   ],
   "source": [
    "df.describe()"
   ]
  },
  {
   "cell_type": "markdown",
   "id": "876af392",
   "metadata": {},
   "source": [
    "### Short Description of features:\n",
    "**Survived** = Passenger survived or not </br>\n",
    "**PassengerId** = Passenger unique Id </br>\n",
    "**Pclass** = Ticket class </br>\n",
    "**Sex** = Passenger sex  </br>\n",
    "**Age** = Passenger Age *in years*  </br>\n",
    "**SibSp** = Number of siblings/spouses aboard the ship including the passenger  </br>\n",
    "**ParCh** = Number of parents/children aboard the ship including the passenger  </br>\n",
    "**Ticket** = Ticket number  </br>\n",
    "**Fare** = Passenger fare  </br>\n",
    "**Cabin** = Cabin number  </br>\n",
    "**Embarked** = Port of passenger embarkation  </br>"
   ]
  },
  {
   "cell_type": "markdown",
   "id": "5f6f658f",
   "metadata": {},
   "source": [
    "The Dataset has 891 examples and 11 features + the target variable (Survived). 2 of the features are floats, 3 are integers and 7 are objects.\n",
    "Let's take a look at each feature"
   ]
  },
  {
   "cell_type": "markdown",
   "id": "51fd9a3d",
   "metadata": {},
   "source": [
    "# Step 1 - Data Governance"
   ]
  },
  {
   "cell_type": "code",
   "execution_count": 6,
   "id": "27b4d631",
   "metadata": {},
   "outputs": [
    {
     "data": {
      "text/plain": [
       "count    891.000000\n",
       "mean       0.383838\n",
       "std        0.486592\n",
       "min        0.000000\n",
       "25%        0.000000\n",
       "50%        0.000000\n",
       "75%        1.000000\n",
       "max        1.000000\n",
       "Name: Survived, dtype: float64"
      ]
     },
     "execution_count": 6,
     "metadata": {},
     "output_type": "execute_result"
    }
   ],
   "source": [
    "df['Survived'].describe()"
   ]
  },
  {
   "cell_type": "markdown",
   "id": "f8824e18",
   "metadata": {},
   "source": [
    "Everything seems fine"
   ]
  },
  {
   "cell_type": "code",
   "execution_count": 7,
   "id": "c34a9d73",
   "metadata": {},
   "outputs": [
    {
     "data": {
      "text/plain": [
       "count    891.000000\n",
       "mean     446.000000\n",
       "std      257.353842\n",
       "min        1.000000\n",
       "25%      223.500000\n",
       "50%      446.000000\n",
       "75%      668.500000\n",
       "max      891.000000\n",
       "Name: PassengerId, dtype: float64"
      ]
     },
     "execution_count": 7,
     "metadata": {},
     "output_type": "execute_result"
    }
   ],
   "source": [
    "df['PassengerId'].describe()"
   ]
  },
  {
   "cell_type": "markdown",
   "id": "724bef6a",
   "metadata": {},
   "source": [
    "Everything seems fine"
   ]
  },
  {
   "cell_type": "code",
   "execution_count": 8,
   "id": "e0524e21",
   "metadata": {},
   "outputs": [
    {
     "data": {
      "text/plain": [
       "count    891.000000\n",
       "mean       2.353535\n",
       "std        1.355652\n",
       "min        1.000000\n",
       "25%        2.000000\n",
       "50%        3.000000\n",
       "75%        3.000000\n",
       "max       33.000000\n",
       "Name: Pclass, dtype: float64"
      ]
     },
     "execution_count": 8,
     "metadata": {},
     "output_type": "execute_result"
    }
   ],
   "source": [
    "df['Pclass'].describe()"
   ]
  },
  {
   "cell_type": "markdown",
   "id": "20bd1934",
   "metadata": {},
   "source": [
    "Something looks unnormal. max value and 75% and 50% and 25% and min does'n increase normal.let's look deeper on values"
   ]
  },
  {
   "cell_type": "code",
   "execution_count": 9,
   "id": "5dd2b940",
   "metadata": {},
   "outputs": [
    {
     "data": {
      "text/plain": [
       "3     490\n",
       "1     215\n",
       "2     184\n",
       "11      1\n",
       "33      1\n",
       "Name: Pclass, dtype: int64"
      ]
     },
     "execution_count": 9,
     "metadata": {},
     "output_type": "execute_result"
    }
   ],
   "source": [
    "df['Pclass'].value_counts()"
   ]
  },
  {
   "cell_type": "markdown",
   "id": "3376df65",
   "metadata": {},
   "source": [
    "Values 1,2,3 looks normal but we have one 11 and one 33 that based on feature description it seems these two values are error. so we should. let's look at their rows"
   ]
  },
  {
   "cell_type": "code",
   "execution_count": 10,
   "id": "2de4d020",
   "metadata": {},
   "outputs": [
    {
     "data": {
      "text/html": [
       "<div>\n",
       "<style scoped>\n",
       "    .dataframe tbody tr th:only-of-type {\n",
       "        vertical-align: middle;\n",
       "    }\n",
       "\n",
       "    .dataframe tbody tr th {\n",
       "        vertical-align: top;\n",
       "    }\n",
       "\n",
       "    .dataframe thead th {\n",
       "        text-align: right;\n",
       "    }\n",
       "</style>\n",
       "<table border=\"1\" class=\"dataframe\">\n",
       "  <thead>\n",
       "    <tr style=\"text-align: right;\">\n",
       "      <th></th>\n",
       "      <th>PassengerId</th>\n",
       "      <th>Survived</th>\n",
       "      <th>Pclass</th>\n",
       "      <th>Name</th>\n",
       "      <th>Sex</th>\n",
       "      <th>Age</th>\n",
       "      <th>SibSp</th>\n",
       "      <th>Parch</th>\n",
       "      <th>Ticket</th>\n",
       "      <th>Fare</th>\n",
       "      <th>Cabin</th>\n",
       "      <th>Embarked</th>\n",
       "    </tr>\n",
       "  </thead>\n",
       "  <tbody>\n",
       "    <tr>\n",
       "      <th>11</th>\n",
       "      <td>12</td>\n",
       "      <td>1</td>\n",
       "      <td>11</td>\n",
       "      <td>Bonnell, Miss. Elizabeth</td>\n",
       "      <td>Female</td>\n",
       "      <td>58.0</td>\n",
       "      <td>0</td>\n",
       "      <td>0</td>\n",
       "      <td>113783</td>\n",
       "      <td>26.55</td>\n",
       "      <td>C103</td>\n",
       "      <td>S</td>\n",
       "    </tr>\n",
       "  </tbody>\n",
       "</table>\n",
       "</div>"
      ],
      "text/plain": [
       "    PassengerId  Survived  Pclass                      Name     Sex   Age  \\\n",
       "11           12         1      11  Bonnell, Miss. Elizabeth  Female  58.0   \n",
       "\n",
       "   SibSp Parch  Ticket   Fare Cabin Embarked  \n",
       "11     0     0  113783  26.55  C103        S  "
      ]
     },
     "execution_count": 10,
     "metadata": {},
     "output_type": "execute_result"
    }
   ],
   "source": [
    "df[df['Pclass']==11]"
   ]
  },
  {
   "cell_type": "code",
   "execution_count": 11,
   "id": "35028abc",
   "metadata": {},
   "outputs": [
    {
     "data": {
      "text/html": [
       "<div>\n",
       "<style scoped>\n",
       "    .dataframe tbody tr th:only-of-type {\n",
       "        vertical-align: middle;\n",
       "    }\n",
       "\n",
       "    .dataframe tbody tr th {\n",
       "        vertical-align: top;\n",
       "    }\n",
       "\n",
       "    .dataframe thead th {\n",
       "        text-align: right;\n",
       "    }\n",
       "</style>\n",
       "<table border=\"1\" class=\"dataframe\">\n",
       "  <thead>\n",
       "    <tr style=\"text-align: right;\">\n",
       "      <th></th>\n",
       "      <th>PassengerId</th>\n",
       "      <th>Survived</th>\n",
       "      <th>Pclass</th>\n",
       "      <th>Name</th>\n",
       "      <th>Sex</th>\n",
       "      <th>Age</th>\n",
       "      <th>SibSp</th>\n",
       "      <th>Parch</th>\n",
       "      <th>Ticket</th>\n",
       "      <th>Fare</th>\n",
       "      <th>Cabin</th>\n",
       "      <th>Embarked</th>\n",
       "    </tr>\n",
       "  </thead>\n",
       "  <tbody>\n",
       "    <tr>\n",
       "      <th>401</th>\n",
       "      <td>402</td>\n",
       "      <td>0</td>\n",
       "      <td>33</td>\n",
       "      <td>Adams, Mr. John</td>\n",
       "      <td>male</td>\n",
       "      <td>26.0</td>\n",
       "      <td>0</td>\n",
       "      <td>0</td>\n",
       "      <td>341826</td>\n",
       "      <td>8.05</td>\n",
       "      <td>NaN</td>\n",
       "      <td>S</td>\n",
       "    </tr>\n",
       "  </tbody>\n",
       "</table>\n",
       "</div>"
      ],
      "text/plain": [
       "     PassengerId  Survived  Pclass             Name   Sex   Age SibSp Parch  \\\n",
       "401          402         0      33  Adams, Mr. John  male  26.0     0     0   \n",
       "\n",
       "     Ticket  Fare Cabin Embarked  \n",
       "401  341826  8.05   NaN        S  "
      ]
     },
     "execution_count": 11,
     "metadata": {},
     "output_type": "execute_result"
    }
   ],
   "source": [
    "df[df['Pclass']==33]"
   ]
  },
  {
   "cell_type": "markdown",
   "id": "7f8b029e",
   "metadata": {},
   "source": [
    "The other values seems alright and it seems there is no other issue in them. </br>\n",
    "So we have two options: </br>\n",
    "1- fill them with Null values </br>\n",
    "2- based on the other values in this feature, maybe it was an input error so the value 11 is an error for value 1, and value 33 is an error for value 3. so maybe we can replace them with the currect values 1,3. </br>\n",
    "I decided to replace them with the currect values."
   ]
  },
  {
   "cell_type": "code",
   "execution_count": 12,
   "id": "13f3194f",
   "metadata": {},
   "outputs": [],
   "source": [
    "df['Pclass'].replace(11,1, inplace=True)"
   ]
  },
  {
   "cell_type": "code",
   "execution_count": 13,
   "id": "6b7f92b4",
   "metadata": {},
   "outputs": [],
   "source": [
    "df['Pclass'].replace(33,3, inplace=True)"
   ]
  },
  {
   "cell_type": "code",
   "execution_count": 14,
   "id": "17d32beb",
   "metadata": {},
   "outputs": [
    {
     "data": {
      "text/plain": [
       "3    491\n",
       "1    216\n",
       "2    184\n",
       "Name: Pclass, dtype: int64"
      ]
     },
     "execution_count": 14,
     "metadata": {},
     "output_type": "execute_result"
    }
   ],
   "source": [
    "df['Pclass'].value_counts()"
   ]
  },
  {
   "cell_type": "code",
   "execution_count": 15,
   "id": "efc1e9c5",
   "metadata": {},
   "outputs": [
    {
     "data": {
      "text/plain": [
       "count    891.000000\n",
       "mean       2.308642\n",
       "std        0.836071\n",
       "min        1.000000\n",
       "25%        2.000000\n",
       "50%        3.000000\n",
       "75%        3.000000\n",
       "max        3.000000\n",
       "Name: Pclass, dtype: float64"
      ]
     },
     "execution_count": 15,
     "metadata": {},
     "output_type": "execute_result"
    }
   ],
   "source": [
    "df['Pclass'].describe()"
   ]
  },
  {
   "cell_type": "markdown",
   "id": "2227159e",
   "metadata": {},
   "source": [
    "now everything looks normal </br>\n",
    "Let's go to the next feature"
   ]
  },
  {
   "cell_type": "code",
   "execution_count": 16,
   "id": "c8f0c152",
   "metadata": {},
   "outputs": [
    {
     "data": {
      "text/plain": [
       "count      891\n",
       "unique      11\n",
       "top       male\n",
       "freq       571\n",
       "Name: Sex, dtype: object"
      ]
     },
     "execution_count": 16,
     "metadata": {},
     "output_type": "execute_result"
    }
   ],
   "source": [
    "df['Sex'].describe()"
   ]
  },
  {
   "cell_type": "markdown",
   "id": "d23c0d5a",
   "metadata": {},
   "source": [
    "We have 8 unique values in Sex? it's not normal. Let's look inside"
   ]
  },
  {
   "cell_type": "code",
   "execution_count": 17,
   "id": "4490cf94",
   "metadata": {},
   "outputs": [
    {
     "data": {
      "text/plain": [
       "array(['male', 'female', 'Female', 'malee', 'FEMALE', 'MALE', 'Male',\n",
       "       'malle', 'femal', 'femmale', 'mmale'], dtype=object)"
      ]
     },
     "execution_count": 17,
     "metadata": {},
     "output_type": "execute_result"
    }
   ],
   "source": [
    "df['Sex'].unique()"
   ]
  },
  {
   "cell_type": "markdown",
   "id": "ee695c69",
   "metadata": {},
   "source": [
    "Oh, there is some Upper case and Lower case version of Male and Female value."
   ]
  },
  {
   "cell_type": "code",
   "execution_count": 18,
   "id": "83548a3e",
   "metadata": {},
   "outputs": [
    {
     "data": {
      "text/plain": [
       "male       571\n",
       "female     310\n",
       "malle        2\n",
       "Female       1\n",
       "malee        1\n",
       "FEMALE       1\n",
       "MALE         1\n",
       "Male         1\n",
       "femal        1\n",
       "femmale      1\n",
       "mmale        1\n",
       "Name: Sex, dtype: int64"
      ]
     },
     "execution_count": 18,
     "metadata": {},
     "output_type": "execute_result"
    }
   ],
   "source": [
    "df['Sex'].value_counts()"
   ]
  },
  {
   "cell_type": "markdown",
   "id": "21f5081a",
   "metadata": {},
   "source": [
    "Ok, male and female are main values and the others should be convert to lower case"
   ]
  },
  {
   "cell_type": "code",
   "execution_count": 19,
   "id": "2266fd44",
   "metadata": {},
   "outputs": [],
   "source": [
    "df['Sex'] = df['Sex'].apply(str.lower)"
   ]
  },
  {
   "cell_type": "code",
   "execution_count": 20,
   "id": "fe8f359e",
   "metadata": {},
   "outputs": [
    {
     "data": {
      "text/plain": [
       "male       573\n",
       "female     312\n",
       "malle        2\n",
       "malee        1\n",
       "femal        1\n",
       "femmale      1\n",
       "mmale        1\n",
       "Name: Sex, dtype: int64"
      ]
     },
     "execution_count": 20,
     "metadata": {},
     "output_type": "execute_result"
    }
   ],
   "source": [
    "df['Sex'].value_counts()"
   ]
  },
  {
   "cell_type": "markdown",
   "id": "96c1afb5",
   "metadata": {},
   "source": [
    "Ok, besides that, we have some other wrong input for male like malle and for female like femal. Let's correct them too."
   ]
  },
  {
   "cell_type": "code",
   "execution_count": 21,
   "id": "96e6f221",
   "metadata": {},
   "outputs": [],
   "source": [
    "female_group = ['femal', 'femmale']\n",
    "df['Sex'].replace(female_group, 'female', inplace=True)"
   ]
  },
  {
   "cell_type": "code",
   "execution_count": 22,
   "id": "0207758c",
   "metadata": {},
   "outputs": [],
   "source": [
    "male_group = ['malle', 'malee', 'mmale']\n",
    "df['Sex'].replace(male_group, 'male', inplace=True)"
   ]
  },
  {
   "cell_type": "code",
   "execution_count": 23,
   "id": "f649350c",
   "metadata": {},
   "outputs": [
    {
     "data": {
      "text/plain": [
       "male      577\n",
       "female    314\n",
       "Name: Sex, dtype: int64"
      ]
     },
     "execution_count": 23,
     "metadata": {},
     "output_type": "execute_result"
    }
   ],
   "source": [
    "df['Sex'].value_counts()"
   ]
  },
  {
   "cell_type": "markdown",
   "id": "688fd0ea",
   "metadata": {},
   "source": [
    "now everything looks normal </br>\n",
    "Let's go to the next feature"
   ]
  },
  {
   "cell_type": "code",
   "execution_count": 24,
   "id": "9b380180",
   "metadata": {},
   "outputs": [
    {
     "data": {
      "text/plain": [
       "count    715.000000\n",
       "mean      30.065972\n",
       "std       17.457358\n",
       "min      -31.000000\n",
       "25%       20.000000\n",
       "50%       28.000000\n",
       "75%       38.000000\n",
       "max      210.000000\n",
       "Name: Age, dtype: float64"
      ]
     },
     "execution_count": 24,
     "metadata": {},
     "output_type": "execute_result"
    }
   ],
   "source": [
    "df['Age'].describe()"
   ]
  },
  {
   "cell_type": "markdown",
   "id": "372fe1ad",
   "metadata": {},
   "source": [
    "Wow, min and max values seems incorrect. let's check them all"
   ]
  },
  {
   "cell_type": "code",
   "execution_count": 25,
   "id": "bfabe2d6",
   "metadata": {},
   "outputs": [
    {
     "data": {
      "text/html": [
       "<div>\n",
       "<style scoped>\n",
       "    .dataframe tbody tr th:only-of-type {\n",
       "        vertical-align: middle;\n",
       "    }\n",
       "\n",
       "    .dataframe tbody tr th {\n",
       "        vertical-align: top;\n",
       "    }\n",
       "\n",
       "    .dataframe thead th {\n",
       "        text-align: right;\n",
       "    }\n",
       "</style>\n",
       "<table border=\"1\" class=\"dataframe\">\n",
       "  <thead>\n",
       "    <tr style=\"text-align: right;\">\n",
       "      <th></th>\n",
       "      <th>PassengerId</th>\n",
       "      <th>Survived</th>\n",
       "      <th>Pclass</th>\n",
       "      <th>Name</th>\n",
       "      <th>Sex</th>\n",
       "      <th>Age</th>\n",
       "      <th>SibSp</th>\n",
       "      <th>Parch</th>\n",
       "      <th>Ticket</th>\n",
       "      <th>Fare</th>\n",
       "      <th>Cabin</th>\n",
       "      <th>Embarked</th>\n",
       "    </tr>\n",
       "  </thead>\n",
       "  <tbody>\n",
       "    <tr>\n",
       "      <th>12</th>\n",
       "      <td>13</td>\n",
       "      <td>0</td>\n",
       "      <td>3</td>\n",
       "      <td>Saundercock, Mr. William Henry</td>\n",
       "      <td>male</td>\n",
       "      <td>-20.0</td>\n",
       "      <td>0</td>\n",
       "      <td>0</td>\n",
       "      <td>A/5. 2151</td>\n",
       "      <td>8.0500</td>\n",
       "      <td>NaN</td>\n",
       "      <td>S</td>\n",
       "    </tr>\n",
       "    <tr>\n",
       "      <th>174</th>\n",
       "      <td>175</td>\n",
       "      <td>0</td>\n",
       "      <td>1</td>\n",
       "      <td>Smith, Mr. James Clinch</td>\n",
       "      <td>male</td>\n",
       "      <td>156.0</td>\n",
       "      <td>0</td>\n",
       "      <td>0</td>\n",
       "      <td>17764</td>\n",
       "      <td>30.6958</td>\n",
       "      <td>A7</td>\n",
       "      <td>C</td>\n",
       "    </tr>\n",
       "    <tr>\n",
       "      <th>237</th>\n",
       "      <td>238</td>\n",
       "      <td>1</td>\n",
       "      <td>2</td>\n",
       "      <td>Collyer, Miss. Marjorie \"Lottie\"</td>\n",
       "      <td>female</td>\n",
       "      <td>-8.0</td>\n",
       "      <td>0</td>\n",
       "      <td>2</td>\n",
       "      <td>C.A. 31921</td>\n",
       "      <td>26.2500</td>\n",
       "      <td>NaN</td>\n",
       "      <td>S</td>\n",
       "    </tr>\n",
       "    <tr>\n",
       "      <th>368</th>\n",
       "      <td>369</td>\n",
       "      <td>1</td>\n",
       "      <td>3</td>\n",
       "      <td>Jermyn, Miss. Annie</td>\n",
       "      <td>female</td>\n",
       "      <td>210.0</td>\n",
       "      <td>0</td>\n",
       "      <td>0</td>\n",
       "      <td>14313</td>\n",
       "      <td>7.7500</td>\n",
       "      <td>NaN</td>\n",
       "      <td>Q</td>\n",
       "    </tr>\n",
       "    <tr>\n",
       "      <th>432</th>\n",
       "      <td>433</td>\n",
       "      <td>1</td>\n",
       "      <td>2</td>\n",
       "      <td>Louch, Mrs. Charles Alexander (Alice Adelaide ...</td>\n",
       "      <td>female</td>\n",
       "      <td>142.0</td>\n",
       "      <td>1</td>\n",
       "      <td>0</td>\n",
       "      <td>SC/AH 3085</td>\n",
       "      <td>26.0000</td>\n",
       "      <td>NaN</td>\n",
       "      <td>S</td>\n",
       "    </tr>\n",
       "    <tr>\n",
       "      <th>673</th>\n",
       "      <td>674</td>\n",
       "      <td>1</td>\n",
       "      <td>2</td>\n",
       "      <td>Wilhelms, Mr. Charles</td>\n",
       "      <td>male</td>\n",
       "      <td>-31.0</td>\n",
       "      <td>0</td>\n",
       "      <td>0</td>\n",
       "      <td>244270</td>\n",
       "      <td>13.0000</td>\n",
       "      <td>NaN</td>\n",
       "      <td>S</td>\n",
       "    </tr>\n",
       "  </tbody>\n",
       "</table>\n",
       "</div>"
      ],
      "text/plain": [
       "     PassengerId  Survived  Pclass  \\\n",
       "12            13         0       3   \n",
       "174          175         0       1   \n",
       "237          238         1       2   \n",
       "368          369         1       3   \n",
       "432          433         1       2   \n",
       "673          674         1       2   \n",
       "\n",
       "                                                  Name     Sex    Age SibSp  \\\n",
       "12                      Saundercock, Mr. William Henry    male  -20.0     0   \n",
       "174                            Smith, Mr. James Clinch    male  156.0     0   \n",
       "237                   Collyer, Miss. Marjorie \"Lottie\"  female   -8.0     0   \n",
       "368                                Jermyn, Miss. Annie  female  210.0     0   \n",
       "432  Louch, Mrs. Charles Alexander (Alice Adelaide ...  female  142.0     1   \n",
       "673                              Wilhelms, Mr. Charles    male  -31.0     0   \n",
       "\n",
       "    Parch      Ticket     Fare Cabin Embarked  \n",
       "12      0   A/5. 2151   8.0500   NaN        S  \n",
       "174     0       17764  30.6958    A7        C  \n",
       "237     2  C.A. 31921  26.2500   NaN        S  \n",
       "368     0       14313   7.7500   NaN        Q  \n",
       "432     0  SC/AH 3085  26.0000   NaN        S  \n",
       "673     0      244270  13.0000   NaN        S  "
      ]
     },
     "execution_count": 25,
     "metadata": {},
     "output_type": "execute_result"
    }
   ],
   "source": [
    "df[(df['Age'] < 0) | (df['Age'] > 100)]"
   ]
  },
  {
   "cell_type": "markdown",
   "id": "9fa740d1",
   "metadata": {},
   "source": [
    "For negetive values for Age we can replace them with exact positive values and also we can replace them with Null values. For values more than usual maximum age, let's take a look at higher values"
   ]
  },
  {
   "cell_type": "code",
   "execution_count": 26,
   "id": "8ab62b30",
   "metadata": {},
   "outputs": [
    {
     "data": {
      "text/plain": [
       "80.0"
      ]
     },
     "execution_count": 26,
     "metadata": {},
     "output_type": "execute_result"
    }
   ],
   "source": [
    "df[(df['Age'] >= 0) & (df['Age'] <= 100)]['Age'].max()"
   ]
  },
  {
   "cell_type": "markdown",
   "id": "50ab0f20",
   "metadata": {},
   "source": [
    "So, the maximum Age under 100 is 80, that looks normal for a passenger. Let's continue remove incorrect Age values"
   ]
  },
  {
   "cell_type": "code",
   "execution_count": 27,
   "id": "610ad5f3",
   "metadata": {},
   "outputs": [],
   "source": [
    "import numpy as np"
   ]
  },
  {
   "cell_type": "code",
   "execution_count": 28,
   "id": "5ad6b339",
   "metadata": {},
   "outputs": [],
   "source": [
    "df.loc[(df['Age'] < 0) | (df['Age'] > 100), 'Age'] = np.nan"
   ]
  },
  {
   "cell_type": "code",
   "execution_count": 29,
   "id": "4dff70d7",
   "metadata": {},
   "outputs": [
    {
     "data": {
      "text/plain": [
       "count    709.000000\n",
       "mean      29.687123\n",
       "std       14.509245\n",
       "min        0.420000\n",
       "25%       20.500000\n",
       "50%       28.000000\n",
       "75%       38.000000\n",
       "max       80.000000\n",
       "Name: Age, dtype: float64"
      ]
     },
     "execution_count": 29,
     "metadata": {},
     "output_type": "execute_result"
    }
   ],
   "source": [
    "df['Age'].describe()"
   ]
  },
  {
   "cell_type": "markdown",
   "id": "5fc6e450",
   "metadata": {},
   "source": [
    "now everything looks normal </br>\n",
    "Let's go to the next feature"
   ]
  },
  {
   "cell_type": "code",
   "execution_count": 30,
   "id": "b944dd6b",
   "metadata": {},
   "outputs": [
    {
     "data": {
      "text/plain": [
       "count     891\n",
       "unique     11\n",
       "top         0\n",
       "freq      605\n",
       "Name: SibSp, dtype: object"
      ]
     },
     "execution_count": 30,
     "metadata": {},
     "output_type": "execute_result"
    }
   ],
   "source": [
    "df['SibSp'].describe()"
   ]
  },
  {
   "cell_type": "markdown",
   "id": "587c8688",
   "metadata": {},
   "source": [
    "SibSp comes for Number of First-degree relatives boarded on ship together but type of this feature is Object so something is wrong. lets look at unique values"
   ]
  },
  {
   "cell_type": "code",
   "execution_count": 31,
   "id": "a06db0e2",
   "metadata": {},
   "outputs": [
    {
     "data": {
      "text/plain": [
       "array(['1', '0', '3', '4', 'NO', '2', '5', '-1', '8', '-2', 'YES'],\n",
       "      dtype=object)"
      ]
     },
     "execution_count": 31,
     "metadata": {},
     "output_type": "execute_result"
    }
   ],
   "source": [
    "df['SibSp'].unique()"
   ]
  },
  {
   "cell_type": "markdown",
   "id": "589d389e",
   "metadata": {},
   "source": [
    "We have some incorrect enteries here, like 'NO' or 'YES' or even -1 and -2. lets count them all"
   ]
  },
  {
   "cell_type": "code",
   "execution_count": 32,
   "id": "b3ccdcbf",
   "metadata": {},
   "outputs": [
    {
     "data": {
      "text/plain": [
       "0      605\n",
       "1      207\n",
       "2       27\n",
       "4       18\n",
       "3       16\n",
       "8        7\n",
       "5        5\n",
       "NO       2\n",
       "YES      2\n",
       "-1       1\n",
       "-2       1\n",
       "Name: SibSp, dtype: int64"
      ]
     },
     "execution_count": 32,
     "metadata": {},
     "output_type": "execute_result"
    }
   ],
   "source": [
    "df['SibSp'].value_counts()"
   ]
  },
  {
   "cell_type": "markdown",
   "id": "83a14849",
   "metadata": {},
   "source": [
    "Ok, there is a few incorrect values. Let's check them one by one: </br>\n",
    "***NO*** means the passenger is alone so we can replace them with 0 </br>\n",
    "***YES*** means the passenger is not alone but we don't know how many other passengers are with this passenger so we can't replace it with a exact number. The count of values says that 0 with 605 frequency is on top of the list, but we are looking for a number except 0. the next one is 1 with 207 frequency, so we can replace 'YES' with 1.</br>\n",
    "***-1 and -2*** could be a entery mistake more than a incorrect value, so we can simply positive them"
   ]
  },
  {
   "cell_type": "code",
   "execution_count": 33,
   "id": "a2c04833",
   "metadata": {},
   "outputs": [],
   "source": [
    "df['SibSp'].replace('NO', 0, inplace=True)"
   ]
  },
  {
   "cell_type": "code",
   "execution_count": 34,
   "id": "4727d96b",
   "metadata": {},
   "outputs": [],
   "source": [
    "df['SibSp'].replace('YES', 1, inplace=True)"
   ]
  },
  {
   "cell_type": "markdown",
   "id": "7c601a32",
   "metadata": {},
   "source": [
    "Now, the feature has not any non-number values so before processing ***-1*** and ***-2*** it's better to convert the feature type to int"
   ]
  },
  {
   "cell_type": "code",
   "execution_count": 35,
   "id": "8dfed11e",
   "metadata": {},
   "outputs": [],
   "source": [
    "df['SibSp'] = df['SibSp'].astype(int)"
   ]
  },
  {
   "cell_type": "code",
   "execution_count": 36,
   "id": "ed19780a",
   "metadata": {},
   "outputs": [],
   "source": [
    "def make_positive(x):\n",
    "    if x < 0:\n",
    "        return x * -1\n",
    "    return x\n",
    "\n",
    "df['SibSp'] = df['SibSp'].apply(make_positive)"
   ]
  },
  {
   "cell_type": "code",
   "execution_count": 37,
   "id": "d078fa92",
   "metadata": {},
   "outputs": [
    {
     "data": {
      "text/plain": [
       "array([1, 0, 3, 4, 2, 5, 8], dtype=int64)"
      ]
     },
     "execution_count": 37,
     "metadata": {},
     "output_type": "execute_result"
    }
   ],
   "source": [
    "df['SibSp'].unique()"
   ]
  },
  {
   "cell_type": "code",
   "execution_count": 38,
   "id": "7a802303",
   "metadata": {},
   "outputs": [
    {
     "data": {
      "text/plain": [
       "0    607\n",
       "1    210\n",
       "2     28\n",
       "4     18\n",
       "3     16\n",
       "8      7\n",
       "5      5\n",
       "Name: SibSp, dtype: int64"
      ]
     },
     "execution_count": 38,
     "metadata": {},
     "output_type": "execute_result"
    }
   ],
   "source": [
    "df['SibSp'].value_counts()"
   ]
  },
  {
   "cell_type": "markdown",
   "id": "07a49a48",
   "metadata": {},
   "source": [
    "now everything looks normal </br>\n",
    "Let's go to the next feature"
   ]
  },
  {
   "cell_type": "code",
   "execution_count": 39,
   "id": "1b27e813",
   "metadata": {},
   "outputs": [
    {
     "data": {
      "text/plain": [
       "count     891\n",
       "unique     11\n",
       "top         0\n",
       "freq      674\n",
       "Name: Parch, dtype: object"
      ]
     },
     "execution_count": 39,
     "metadata": {},
     "output_type": "execute_result"
    }
   ],
   "source": [
    "df['Parch'].describe()"
   ]
  },
  {
   "cell_type": "code",
   "execution_count": 40,
   "id": "01524c2b",
   "metadata": {},
   "outputs": [
    {
     "data": {
      "text/plain": [
       "array(['0', '1', '2', '5', 'O', '3', '4', 'PC', 'F.C.C', 'WE', '6'],\n",
       "      dtype=object)"
      ]
     },
     "execution_count": 40,
     "metadata": {},
     "output_type": "execute_result"
    }
   ],
   "source": [
    "df['Parch'].unique()"
   ]
  },
  {
   "cell_type": "code",
   "execution_count": 41,
   "id": "7e4d6b43",
   "metadata": {},
   "outputs": [
    {
     "data": {
      "text/plain": [
       "0        674\n",
       "1        117\n",
       "2         79\n",
       "5          5\n",
       "3          5\n",
       "4          4\n",
       "O          3\n",
       "PC         1\n",
       "F.C.C      1\n",
       "WE         1\n",
       "6          1\n",
       "Name: Parch, dtype: int64"
      ]
     },
     "execution_count": 41,
     "metadata": {},
     "output_type": "execute_result"
    }
   ],
   "source": [
    "df['Parch'].value_counts()"
   ]
  },
  {
   "cell_type": "markdown",
   "id": "51d09341",
   "metadata": {},
   "source": [
    "The Parch feature is also about number of First-Class family so it should be number but its type is object because there is some incorrect values like ***PC*** or ***F.C.C*** or ***O*** in it. </br>\n",
    "***O*** and ***0*** are the same in many cases so we can replace ***O*** with ***0*** </br>\n",
    "the other String values are incorrect and should replace with ***0***</br>"
   ]
  },
  {
   "cell_type": "code",
   "execution_count": 42,
   "id": "0b62fd11",
   "metadata": {},
   "outputs": [],
   "source": [
    "def convert_to_int(x):\n",
    "    try:\n",
    "        return int(x)\n",
    "    except ValueError as ve:\n",
    "        return 0\n",
    "    \n",
    "\n",
    "df['Parch'] = df['Parch'].apply(convert_to_int)"
   ]
  },
  {
   "cell_type": "markdown",
   "id": "4cd234e4",
   "metadata": {},
   "source": [
    "because in every scenario the incorrect value should replace with ***0*** and type of all incorrect values is *string*, so I try to convert every value in this feature to int and ofcourse string values raise error during conversion so simply the function return ***0*** in exceptions."
   ]
  },
  {
   "cell_type": "code",
   "execution_count": 43,
   "id": "44cbd7bf",
   "metadata": {},
   "outputs": [
    {
     "data": {
      "text/plain": [
       "0    680\n",
       "1    117\n",
       "2     79\n",
       "5      5\n",
       "3      5\n",
       "4      4\n",
       "6      1\n",
       "Name: Parch, dtype: int64"
      ]
     },
     "execution_count": 43,
     "metadata": {},
     "output_type": "execute_result"
    }
   ],
   "source": [
    "df['Parch'].value_counts()"
   ]
  },
  {
   "cell_type": "markdown",
   "id": "24a6a433",
   "metadata": {},
   "source": [
    "now everything looks normal </br>\n",
    "Let's go to the next feature"
   ]
  },
  {
   "cell_type": "code",
   "execution_count": 44,
   "id": "ab140934",
   "metadata": {},
   "outputs": [
    {
     "data": {
      "text/plain": [
       "count        891\n",
       "unique       681\n",
       "top       347082\n",
       "freq           7\n",
       "Name: Ticket, dtype: object"
      ]
     },
     "execution_count": 44,
     "metadata": {},
     "output_type": "execute_result"
    }
   ],
   "source": [
    "df['Ticket'].describe()"
   ]
  },
  {
   "cell_type": "code",
   "execution_count": 45,
   "id": "7fefe294",
   "metadata": {},
   "outputs": [
    {
     "data": {
      "text/plain": [
       "0           A/5 21171\n",
       "1            PC 17599\n",
       "2    STON/O2. 3101282\n",
       "3              113803\n",
       "4              373450\n",
       "5              330877\n",
       "6               17463\n",
       "7              349909\n",
       "8              347742\n",
       "9              237736\n",
       "Name: Ticket, dtype: object"
      ]
     },
     "execution_count": 45,
     "metadata": {},
     "output_type": "execute_result"
    }
   ],
   "source": [
    "df['Ticket'].head(10)"
   ]
  },
  {
   "cell_type": "code",
   "execution_count": 46,
   "id": "d5afcfed",
   "metadata": {},
   "outputs": [
    {
     "name": "stdout",
     "output_type": "stream",
     "text": [
      "<class 'pandas.core.series.Series'>\n",
      "RangeIndex: 891 entries, 0 to 890\n",
      "Series name: Ticket\n",
      "Non-Null Count  Dtype \n",
      "--------------  ----- \n",
      "891 non-null    object\n",
      "dtypes: object(1)\n",
      "memory usage: 7.1+ KB\n"
     ]
    }
   ],
   "source": [
    "df['Ticket'].info()"
   ]
  },
  {
   "cell_type": "markdown",
   "id": "776b1732",
   "metadata": {},
   "source": [
    "most of ticket numbers are unique and I don't think this feature has any relation to a passenger survive or not and we probably will drop this feature. so let's go to the next feature"
   ]
  },
  {
   "cell_type": "code",
   "execution_count": 47,
   "id": "5d364e05",
   "metadata": {},
   "outputs": [
    {
     "name": "stdout",
     "output_type": "stream",
     "text": [
      "<class 'pandas.core.series.Series'>\n",
      "RangeIndex: 891 entries, 0 to 890\n",
      "Series name: Fare\n",
      "Non-Null Count  Dtype  \n",
      "--------------  -----  \n",
      "891 non-null    float64\n",
      "dtypes: float64(1)\n",
      "memory usage: 7.1 KB\n"
     ]
    }
   ],
   "source": [
    "df['Fare'].info()"
   ]
  },
  {
   "cell_type": "code",
   "execution_count": 48,
   "id": "2273a953",
   "metadata": {},
   "outputs": [
    {
     "data": {
      "text/plain": [
       "count       891.000000\n",
       "mean        607.347867\n",
       "std       17170.623346\n",
       "min         -13.000000\n",
       "25%           7.895800\n",
       "50%          14.454200\n",
       "75%          31.000000\n",
       "max      512566.600000\n",
       "Name: Fare, dtype: float64"
      ]
     },
     "execution_count": 48,
     "metadata": {},
     "output_type": "execute_result"
    }
   ],
   "source": [
    "df['Fare'].describe()"
   ]
  },
  {
   "cell_type": "markdown",
   "id": "d13d24ce",
   "metadata": {},
   "source": [
    "I see some incorrect values in ***Fare*** feature like ***-13*** which is under Zero or ***512566.6*** which is too high for a ticket price. for values below zero we can erase them but for very high values, first we need to know normal range of ticket. to do so we can use std mean"
   ]
  },
  {
   "cell_type": "code",
   "execution_count": 49,
   "id": "c047675e",
   "metadata": {},
   "outputs": [
    {
     "data": {
      "text/plain": [
       "17170.62334597232"
      ]
     },
     "execution_count": 49,
     "metadata": {},
     "output_type": "execute_result"
    }
   ],
   "source": [
    "df['Fare'].std()"
   ]
  },
  {
   "cell_type": "code",
   "execution_count": 50,
   "id": "b618e69d",
   "metadata": {},
   "outputs": [
    {
     "data": {
      "text/plain": [
       "607.3478667789001"
      ]
     },
     "execution_count": 50,
     "metadata": {},
     "output_type": "execute_result"
    }
   ],
   "source": [
    "df['Fare'].mean()"
   ]
  },
  {
   "cell_type": "code",
   "execution_count": 51,
   "id": "196f9d97",
   "metadata": {},
   "outputs": [
    {
     "data": {
      "text/html": [
       "<div>\n",
       "<style scoped>\n",
       "    .dataframe tbody tr th:only-of-type {\n",
       "        vertical-align: middle;\n",
       "    }\n",
       "\n",
       "    .dataframe tbody tr th {\n",
       "        vertical-align: top;\n",
       "    }\n",
       "\n",
       "    .dataframe thead th {\n",
       "        text-align: right;\n",
       "    }\n",
       "</style>\n",
       "<table border=\"1\" class=\"dataframe\">\n",
       "  <thead>\n",
       "    <tr style=\"text-align: right;\">\n",
       "      <th></th>\n",
       "      <th>PassengerId</th>\n",
       "      <th>Survived</th>\n",
       "      <th>Pclass</th>\n",
       "      <th>Name</th>\n",
       "      <th>Sex</th>\n",
       "      <th>Age</th>\n",
       "      <th>SibSp</th>\n",
       "      <th>Parch</th>\n",
       "      <th>Ticket</th>\n",
       "      <th>Fare</th>\n",
       "      <th>Cabin</th>\n",
       "      <th>Embarked</th>\n",
       "    </tr>\n",
       "  </thead>\n",
       "  <tbody>\n",
       "    <tr>\n",
       "      <th>336</th>\n",
       "      <td>337</td>\n",
       "      <td>0</td>\n",
       "      <td>1</td>\n",
       "      <td>Pears, Mr. Thomas Clinton</td>\n",
       "      <td>male</td>\n",
       "      <td>29.0</td>\n",
       "      <td>1</td>\n",
       "      <td>0</td>\n",
       "      <td>113776</td>\n",
       "      <td>512566.6</td>\n",
       "      <td>C2</td>\n",
       "      <td>S</td>\n",
       "    </tr>\n",
       "  </tbody>\n",
       "</table>\n",
       "</div>"
      ],
      "text/plain": [
       "     PassengerId  Survived  Pclass                       Name   Sex   Age  \\\n",
       "336          337         0       1  Pears, Mr. Thomas Clinton  male  29.0   \n",
       "\n",
       "     SibSp  Parch  Ticket      Fare Cabin Embarked  \n",
       "336      1      0  113776  512566.6    C2        S  "
      ]
     },
     "execution_count": 51,
     "metadata": {},
     "output_type": "execute_result"
    }
   ],
   "source": [
    "df[df['Fare'] > (df['Fare'].mean() + df['Fare'].std())]"
   ]
  },
  {
   "cell_type": "code",
   "execution_count": 52,
   "id": "f3b8e98d",
   "metadata": {},
   "outputs": [
    {
     "data": {
      "text/plain": [
       "512.3292"
      ]
     },
     "execution_count": 52,
     "metadata": {},
     "output_type": "execute_result"
    }
   ],
   "source": [
    "df[df['Fare'] < (df['Fare'].mean() + df['Fare'].std())]['Fare'].max()"
   ]
  },
  {
   "cell_type": "markdown",
   "id": "fbc83e2a",
   "metadata": {},
   "source": [
    "It seems that we just have a single record with very high value and without that record, maximum Fare will be 512ish. so we can simply replace its value with Null"
   ]
  },
  {
   "cell_type": "code",
   "execution_count": 53,
   "id": "2801090a",
   "metadata": {},
   "outputs": [],
   "source": [
    "df.loc[(df['Fare'] < 0) | (df['Fare'] > (df['Fare'].mean() + df['Fare'].std())), 'Fare'] = np.nan"
   ]
  },
  {
   "cell_type": "code",
   "execution_count": 54,
   "id": "0a397cbf",
   "metadata": {},
   "outputs": [
    {
     "data": {
      "text/plain": [
       "count    888.000000\n",
       "mean      32.211542\n",
       "std       49.754479\n",
       "min        0.000000\n",
       "25%        7.895800\n",
       "50%       14.454200\n",
       "75%       31.000000\n",
       "max      512.329200\n",
       "Name: Fare, dtype: float64"
      ]
     },
     "execution_count": 54,
     "metadata": {},
     "output_type": "execute_result"
    }
   ],
   "source": [
    "df['Fare'].describe()"
   ]
  },
  {
   "cell_type": "markdown",
   "id": "5e292017",
   "metadata": {},
   "source": [
    "Now, all values are normal and we can continue with the next feature"
   ]
  },
  {
   "cell_type": "code",
   "execution_count": 55,
   "id": "5d4ed50a",
   "metadata": {},
   "outputs": [
    {
     "name": "stdout",
     "output_type": "stream",
     "text": [
      "<class 'pandas.core.series.Series'>\n",
      "RangeIndex: 891 entries, 0 to 890\n",
      "Series name: Cabin\n",
      "Non-Null Count  Dtype \n",
      "--------------  ----- \n",
      "204 non-null    object\n",
      "dtypes: object(1)\n",
      "memory usage: 7.1+ KB\n"
     ]
    }
   ],
   "source": [
    "df['Cabin'].info()"
   ]
  },
  {
   "cell_type": "code",
   "execution_count": 56,
   "id": "d82ba653",
   "metadata": {},
   "outputs": [
    {
     "data": {
      "text/plain": [
       "count         204\n",
       "unique        147\n",
       "top       B96 B98\n",
       "freq            4\n",
       "Name: Cabin, dtype: object"
      ]
     },
     "execution_count": 56,
     "metadata": {},
     "output_type": "execute_result"
    }
   ],
   "source": [
    "df['Cabin'].describe()"
   ]
  },
  {
   "cell_type": "markdown",
   "id": "73793e9c",
   "metadata": {},
   "source": [
    "Cabin has alot of missing values and I believe that we should remove it from dataset. we leave it as it is for now.</br>\n",
    "Let's go to the next feature"
   ]
  },
  {
   "cell_type": "code",
   "execution_count": 57,
   "id": "55d2550f",
   "metadata": {},
   "outputs": [
    {
     "data": {
      "text/plain": [
       "count     889\n",
       "unique      5\n",
       "top         S\n",
       "freq      642\n",
       "Name: Embarked, dtype: object"
      ]
     },
     "execution_count": 57,
     "metadata": {},
     "output_type": "execute_result"
    }
   ],
   "source": [
    "df['Embarked'].describe()"
   ]
  },
  {
   "cell_type": "code",
   "execution_count": 58,
   "id": "fde07682",
   "metadata": {},
   "outputs": [
    {
     "name": "stdout",
     "output_type": "stream",
     "text": [
      "<class 'pandas.core.series.Series'>\n",
      "RangeIndex: 891 entries, 0 to 890\n",
      "Series name: Embarked\n",
      "Non-Null Count  Dtype \n",
      "--------------  ----- \n",
      "889 non-null    object\n",
      "dtypes: object(1)\n",
      "memory usage: 7.1+ KB\n"
     ]
    }
   ],
   "source": [
    "df['Embarked'].info()"
   ]
  },
  {
   "cell_type": "code",
   "execution_count": 59,
   "id": "2fce2b85",
   "metadata": {},
   "outputs": [
    {
     "data": {
      "text/plain": [
       "array(['S', 'C', 'Q', nan, 's', 'q'], dtype=object)"
      ]
     },
     "execution_count": 59,
     "metadata": {},
     "output_type": "execute_result"
    }
   ],
   "source": [
    "df['Embarked'].unique()"
   ]
  },
  {
   "cell_type": "code",
   "execution_count": 60,
   "id": "660ccc56",
   "metadata": {},
   "outputs": [
    {
     "data": {
      "text/plain": [
       "S    642\n",
       "C    168\n",
       "Q     75\n",
       "s      2\n",
       "q      2\n",
       "Name: Embarked, dtype: int64"
      ]
     },
     "execution_count": 60,
     "metadata": {},
     "output_type": "execute_result"
    }
   ],
   "source": [
    "df['Embarked'].value_counts()"
   ]
  },
  {
   "cell_type": "markdown",
   "id": "46aad37b",
   "metadata": {},
   "source": [
    "Ok, it seems that lower case ***s*** and ***q*** should be convert to upper case.\n"
   ]
  },
  {
   "cell_type": "code",
   "execution_count": 61,
   "id": "6c7e468b",
   "metadata": {},
   "outputs": [],
   "source": [
    "df['Embarked'] = df['Embarked'].dropna().apply(str.upper)"
   ]
  },
  {
   "cell_type": "code",
   "execution_count": 62,
   "id": "5fb45b0d",
   "metadata": {},
   "outputs": [
    {
     "data": {
      "text/plain": [
       "S    644\n",
       "C    168\n",
       "Q     77\n",
       "Name: Embarked, dtype: int64"
      ]
     },
     "execution_count": 62,
     "metadata": {},
     "output_type": "execute_result"
    }
   ],
   "source": [
    "df['Embarked'].value_counts()"
   ]
  },
  {
   "cell_type": "code",
   "execution_count": 63,
   "id": "6756ba86",
   "metadata": {},
   "outputs": [
    {
     "name": "stdout",
     "output_type": "stream",
     "text": [
      "<class 'pandas.core.frame.DataFrame'>\n",
      "RangeIndex: 891 entries, 0 to 890\n",
      "Data columns (total 12 columns):\n",
      " #   Column       Non-Null Count  Dtype  \n",
      "---  ------       --------------  -----  \n",
      " 0   PassengerId  891 non-null    int64  \n",
      " 1   Survived     891 non-null    int64  \n",
      " 2   Pclass       891 non-null    int64  \n",
      " 3   Name         891 non-null    object \n",
      " 4   Sex          891 non-null    object \n",
      " 5   Age          709 non-null    float64\n",
      " 6   SibSp        891 non-null    int64  \n",
      " 7   Parch        891 non-null    int64  \n",
      " 8   Ticket       891 non-null    object \n",
      " 9   Fare         888 non-null    float64\n",
      " 10  Cabin        204 non-null    object \n",
      " 11  Embarked     889 non-null    object \n",
      "dtypes: float64(2), int64(5), object(5)\n",
      "memory usage: 83.7+ KB\n"
     ]
    }
   ],
   "source": [
    "df.info()"
   ]
  },
  {
   "cell_type": "markdown",
   "id": "e2713c84",
   "metadata": {},
   "source": [
    "Ok, everything goes good and know we can start to deal with missing values"
   ]
  },
  {
   "cell_type": "markdown",
   "id": "7e350dc3",
   "metadata": {},
   "source": [
    "Now its time to get some information about relation between freatures and target value.</br>\n",
    "I don't think ***PassengerId*** has any relation with a high survival rate. same as ***Ticket*** and also ***Name*** of passengers.</br>\n",
    "let's check the others"
   ]
  },
  {
   "cell_type": "code",
   "execution_count": 64,
   "id": "1b0fb23a",
   "metadata": {},
   "outputs": [],
   "source": [
    "import matplotlib.pyplot as plt\n",
    "import seaborn as sns"
   ]
  },
  {
   "cell_type": "code",
   "execution_count": 65,
   "id": "fea72bc0",
   "metadata": {},
   "outputs": [],
   "source": [
    "survived = df['Survived'] == 1\n",
    "notsurvived = df['Survived'] == 0"
   ]
  },
  {
   "cell_type": "code",
   "execution_count": 66,
   "id": "0bc834ba",
   "metadata": {},
   "outputs": [
    {
     "data": {
      "text/plain": [
       "[None, None, None, None]"
      ]
     },
     "execution_count": 66,
     "metadata": {},
     "output_type": "execute_result"
    },
    {
     "data": {
      "image/png": "[encoded data removed]",
      "text/plain": [
       "<Figure size 1000x1200 with 8 Axes>"
      ]
     },
     "metadata": {},
     "output_type": "display_data"
    }
   ],
   "source": [
    "figure, axes = plt.subplots(nrows=4, ncols=2, figsize=(10, 12))\n",
    "\n",
    "ax1 = sns.histplot(df[survived].Pclass.dropna(),ax=axes[0][0], label = 'survived', kde =False)\n",
    "ax1 = sns.histplot(df[notsurvived].Pclass.dropna(),ax=axes[0][0], label = 'not survived', kde =False)\n",
    "ax1.legend()\n",
    "plt.setp(ax1.get_legend().get_texts(), fontsize='12')\n",
    "# ax1.set_title('Pclass')\n",
    "\n",
    "ax2 = sns.histplot(df[survived].Sex.dropna(),ax=axes[0][1], label = 'survived', kde =False)\n",
    "ax2 = sns.histplot(df[notsurvived].Sex.dropna(),ax=axes[0][1], label = 'not survived', kde =False)\n",
    "ax2.legend()\n",
    "plt.setp(ax2.get_legend().get_texts(), fontsize='12')\n",
    "# ax2.set_title('Sex')\n",
    "\n",
    "ax3 = sns.histplot(df[survived].Age.dropna(),ax=axes[1][0], label = 'survived', kde =False)\n",
    "ax3 = sns.histplot(df[notsurvived].Age.dropna(),ax=axes[1][0], label = 'not survived', kde =False)\n",
    "ax3.legend()\n",
    "plt.setp(ax3.get_legend().get_texts(), fontsize='12')\n",
    "# ax3.set_title('Age')\n",
    "\n",
    "ax4 = sns.histplot(df[survived].SibSp.dropna(),ax=axes[1][1], label = 'survived', kde =False)\n",
    "ax4 = sns.histplot(df[notsurvived].SibSp.dropna(),ax=axes[1][1], label = 'not survived', kde =False)\n",
    "ax4.legend()\n",
    "plt.setp(ax4.get_legend().get_texts(), fontsize='12')\n",
    "# ax4.set_title('SibSp')\n",
    "\n",
    "ax5 = sns.histplot(df[survived].Parch.dropna(),ax=axes[2][0], label = 'survived', kde =False)\n",
    "ax5 = sns.histplot(df[notsurvived].Parch.dropna(),ax=axes[2][0], label = 'not survived', kde =False)\n",
    "ax5.legend()\n",
    "plt.setp(ax5.get_legend().get_texts(), fontsize='12')\n",
    "# ax5.set_title('Parch')\n",
    "\n",
    "ax6 = sns.histplot(df[survived].Fare.dropna(),ax=axes[2][1], label = 'survived', kde =False)\n",
    "ax6 = sns.histplot(df[notsurvived].Fare.dropna(),ax=axes[2][1], label = 'not survived', kde =False)\n",
    "ax6.legend()\n",
    "plt.setp(ax6.get_legend().get_texts(), fontsize='12')\n",
    "# ax6.set_title('Fare')\n",
    "\n",
    "ax7 = sns.histplot(df[survived].Cabin.dropna(),ax=axes[3][0], label = 'survived', kde =False)\n",
    "ax7 = sns.histplot(df[notsurvived].Cabin.dropna(),ax=axes[3][0], label = 'not survived', kde =False)\n",
    "ax7.legend()\n",
    "plt.setp(ax7.get_legend().get_texts(), fontsize='12')\n",
    "# ax7.set_title('Cabin')\n",
    "\n",
    "ax8 = sns.histplot(df[survived].Embarked.dropna(),ax=axes[3][1], label = 'survived', kde =False)\n",
    "ax8 = sns.histplot(df[notsurvived].Embarked.dropna(),ax=axes[3][1], label = 'not survived', kde =False)\n",
    "ax8.legend()\n",
    "plt.setp(ax8.get_legend().get_texts(), fontsize='12')\n",
    "# ax8.set_title('Embarked')"
   ]
  },
  {
   "cell_type": "markdown",
   "id": "df9a3563",
   "metadata": {},
   "source": [
    "Plots shows that 'Pclass', 'Sex', 'Age', 'SibSp', 'Parch', 'Fare', And 'Embarked' may somehow related to survival of a passenger. but I can't say so for ***Cabin***. let's take a deeper look at its values"
   ]
  },
  {
   "cell_type": "code",
   "execution_count": 67,
   "id": "294d9316",
   "metadata": {},
   "outputs": [
    {
     "data": {
      "text/plain": [
       "1              C85\n",
       "3             C123\n",
       "6              E46\n",
       "10              G6\n",
       "11            C103\n",
       "          ...     \n",
       "871            D35\n",
       "872    B51 B53 B55\n",
       "879            C50\n",
       "887            B42\n",
       "889           C148\n",
       "Name: Cabin, Length: 204, dtype: object"
      ]
     },
     "execution_count": 67,
     "metadata": {},
     "output_type": "execute_result"
    }
   ],
   "source": [
    "df['Cabin'].dropna()"
   ]
  },
  {
   "cell_type": "markdown",
   "id": "01c27f82",
   "metadata": {},
   "source": [
    "it looks like every Cabin number starts with a letter and then a number. Let's split its letters"
   ]
  },
  {
   "cell_type": "code",
   "execution_count": 68,
   "id": "fb86b094",
   "metadata": {},
   "outputs": [
    {
     "data": {
      "text/plain": [
       "array(['C', 'E', 'G', 'D', 'A', 'B', 'F', 'T'], dtype=object)"
      ]
     },
     "execution_count": 68,
     "metadata": {},
     "output_type": "execute_result"
    }
   ],
   "source": [
    "df['Cabin'].str[0].dropna().unique()"
   ]
  },
  {
   "cell_type": "markdown",
   "id": "85b3db8c",
   "metadata": {},
   "source": [
    "every Cabin number starts with a letter A-G and T . If this letters shows the position of Cabin in the ship, it may related to passengers survivals. as I mentioned before missing values in this feature is more than 77 percent. but if we extract the letters from Cabin number and then categorize passenger based on this letters and assume others as a seperate category then maybe this grouping help the machine for better learning. so let's do it"
   ]
  },
  {
   "cell_type": "code",
   "execution_count": 69,
   "id": "18a631d0",
   "metadata": {},
   "outputs": [],
   "source": [
    "df['Cabin'] = df['Cabin'].str[0]"
   ]
  },
  {
   "cell_type": "code",
   "execution_count": 70,
   "id": "2951d12b",
   "metadata": {},
   "outputs": [
    {
     "name": "stdout",
     "output_type": "stream",
     "text": [
      "<class 'pandas.core.series.Series'>\n",
      "RangeIndex: 891 entries, 0 to 890\n",
      "Series name: Cabin\n",
      "Non-Null Count  Dtype \n",
      "--------------  ----- \n",
      "204 non-null    object\n",
      "dtypes: object(1)\n",
      "memory usage: 7.1+ KB\n"
     ]
    }
   ],
   "source": [
    "df['Cabin'].info()"
   ]
  },
  {
   "cell_type": "code",
   "execution_count": 71,
   "id": "614f8816",
   "metadata": {},
   "outputs": [
    {
     "data": {
      "text/plain": [
       "C    59\n",
       "B    47\n",
       "D    33\n",
       "E    32\n",
       "A    15\n",
       "F    13\n",
       "G     4\n",
       "T     1\n",
       "Name: Cabin, dtype: int64"
      ]
     },
     "execution_count": 71,
     "metadata": {},
     "output_type": "execute_result"
    }
   ],
   "source": [
    "df['Cabin'].value_counts()"
   ]
  },
  {
   "cell_type": "markdown",
   "id": "8f9d7a7f",
   "metadata": {},
   "source": [
    "## Dealing with missing values"
   ]
  },
  {
   "cell_type": "markdown",
   "id": "dd8c2d17",
   "metadata": {},
   "source": [
    "First of all let's take a look at missing value statistic"
   ]
  },
  {
   "cell_type": "code",
   "execution_count": 72,
   "id": "ffeec5ca",
   "metadata": {},
   "outputs": [
    {
     "data": {
      "text/html": [
       "<div>\n",
       "<style scoped>\n",
       "    .dataframe tbody tr th:only-of-type {\n",
       "        vertical-align: middle;\n",
       "    }\n",
       "\n",
       "    .dataframe tbody tr th {\n",
       "        vertical-align: top;\n",
       "    }\n",
       "\n",
       "    .dataframe thead th {\n",
       "        text-align: right;\n",
       "    }\n",
       "</style>\n",
       "<table border=\"1\" class=\"dataframe\">\n",
       "  <thead>\n",
       "    <tr style=\"text-align: right;\">\n",
       "      <th></th>\n",
       "      <th>Total</th>\n",
       "      <th>%</th>\n",
       "    </tr>\n",
       "  </thead>\n",
       "  <tbody>\n",
       "    <tr>\n",
       "      <th>Cabin</th>\n",
       "      <td>687</td>\n",
       "      <td>77.1</td>\n",
       "    </tr>\n",
       "    <tr>\n",
       "      <th>Age</th>\n",
       "      <td>182</td>\n",
       "      <td>20.4</td>\n",
       "    </tr>\n",
       "    <tr>\n",
       "      <th>Fare</th>\n",
       "      <td>3</td>\n",
       "      <td>0.3</td>\n",
       "    </tr>\n",
       "    <tr>\n",
       "      <th>Embarked</th>\n",
       "      <td>2</td>\n",
       "      <td>0.2</td>\n",
       "    </tr>\n",
       "    <tr>\n",
       "      <th>PassengerId</th>\n",
       "      <td>0</td>\n",
       "      <td>0.0</td>\n",
       "    </tr>\n",
       "    <tr>\n",
       "      <th>Survived</th>\n",
       "      <td>0</td>\n",
       "      <td>0.0</td>\n",
       "    </tr>\n",
       "    <tr>\n",
       "      <th>Pclass</th>\n",
       "      <td>0</td>\n",
       "      <td>0.0</td>\n",
       "    </tr>\n",
       "    <tr>\n",
       "      <th>Name</th>\n",
       "      <td>0</td>\n",
       "      <td>0.0</td>\n",
       "    </tr>\n",
       "    <tr>\n",
       "      <th>Sex</th>\n",
       "      <td>0</td>\n",
       "      <td>0.0</td>\n",
       "    </tr>\n",
       "    <tr>\n",
       "      <th>SibSp</th>\n",
       "      <td>0</td>\n",
       "      <td>0.0</td>\n",
       "    </tr>\n",
       "    <tr>\n",
       "      <th>Parch</th>\n",
       "      <td>0</td>\n",
       "      <td>0.0</td>\n",
       "    </tr>\n",
       "    <tr>\n",
       "      <th>Ticket</th>\n",
       "      <td>0</td>\n",
       "      <td>0.0</td>\n",
       "    </tr>\n",
       "  </tbody>\n",
       "</table>\n",
       "</div>"
      ],
      "text/plain": [
       "             Total     %\n",
       "Cabin          687  77.1\n",
       "Age            182  20.4\n",
       "Fare             3   0.3\n",
       "Embarked         2   0.2\n",
       "PassengerId      0   0.0\n",
       "Survived         0   0.0\n",
       "Pclass           0   0.0\n",
       "Name             0   0.0\n",
       "Sex              0   0.0\n",
       "SibSp            0   0.0\n",
       "Parch            0   0.0\n",
       "Ticket           0   0.0"
      ]
     },
     "execution_count": 72,
     "metadata": {},
     "output_type": "execute_result"
    }
   ],
   "source": [
    "total = df.isnull().sum().sort_values(ascending=False)\n",
    "prcnt1 = df.isnull().sum()/df.isnull().count()*100\n",
    "prcnt2 = (round(prcnt1, 1)).sort_values(ascending=False)\n",
    "missing_data = pd.concat([total, prcnt2], axis=1, keys=['Total', '%'])\n",
    "missing_data"
   ]
  },
  {
   "cell_type": "markdown",
   "id": "f997825f",
   "metadata": {},
   "source": [
    "***Cabin*** with more than 77 percent missing values should has been removed from Dataset but with last change we provide on the values now we can assume missing values as a separate category and keep moving</br>\n",
    "***Fare*** and ***Embarked*** with less than 1 percent missing values can fill with proper values </br>\n",
    "but dealing with ***Age*** is more tricky and needs more investigation.</br>\n",
    "for now let's take care of ***Fare*** and ***Embarked***"
   ]
  },
  {
   "cell_type": "code",
   "execution_count": 73,
   "id": "8a92ed33",
   "metadata": {},
   "outputs": [
    {
     "data": {
      "text/plain": [
       "S    644\n",
       "C    168\n",
       "Q     77\n",
       "Name: Embarked, dtype: int64"
      ]
     },
     "execution_count": 73,
     "metadata": {},
     "output_type": "execute_result"
    }
   ],
   "source": [
    "df['Embarked'].value_counts()"
   ]
  },
  {
   "cell_type": "markdown",
   "id": "00705193",
   "metadata": {},
   "source": [
    "**S** has more freq so we fill missing values with this value. "
   ]
  },
  {
   "cell_type": "code",
   "execution_count": 74,
   "id": "e860474c",
   "metadata": {},
   "outputs": [],
   "source": [
    "df['Embarked'].fillna('S', inplace=True)"
   ]
  },
  {
   "cell_type": "code",
   "execution_count": 75,
   "id": "a6f4aa5c",
   "metadata": {},
   "outputs": [
    {
     "name": "stdout",
     "output_type": "stream",
     "text": [
      "<class 'pandas.core.series.Series'>\n",
      "RangeIndex: 891 entries, 0 to 890\n",
      "Series name: Fare\n",
      "Non-Null Count  Dtype  \n",
      "--------------  -----  \n",
      "888 non-null    float64\n",
      "dtypes: float64(1)\n",
      "memory usage: 7.1 KB\n"
     ]
    }
   ],
   "source": [
    "df['Fare'].info()"
   ]
  },
  {
   "cell_type": "code",
   "execution_count": 76,
   "id": "70a6038e",
   "metadata": {},
   "outputs": [
    {
     "data": {
      "text/plain": [
       "count    888.000000\n",
       "mean      32.211542\n",
       "std       49.754479\n",
       "min        0.000000\n",
       "25%        7.895800\n",
       "50%       14.454200\n",
       "75%       31.000000\n",
       "max      512.329200\n",
       "Name: Fare, dtype: float64"
      ]
     },
     "execution_count": 76,
     "metadata": {},
     "output_type": "execute_result"
    }
   ],
   "source": [
    "df['Fare'].describe()"
   ]
  },
  {
   "cell_type": "markdown",
   "id": "51a7afa9",
   "metadata": {},
   "source": [
    "We have **0** in values so I simple fill missing values with **0**"
   ]
  },
  {
   "cell_type": "code",
   "execution_count": 77,
   "id": "da0c4c95",
   "metadata": {},
   "outputs": [],
   "source": [
    "df['Fare'].fillna(0, inplace=True)"
   ]
  },
  {
   "cell_type": "code",
   "execution_count": 78,
   "id": "114d607f",
   "metadata": {},
   "outputs": [
    {
     "name": "stdout",
     "output_type": "stream",
     "text": [
      "<class 'pandas.core.series.Series'>\n",
      "RangeIndex: 891 entries, 0 to 890\n",
      "Series name: Fare\n",
      "Non-Null Count  Dtype  \n",
      "--------------  -----  \n",
      "891 non-null    float64\n",
      "dtypes: float64(1)\n",
      "memory usage: 7.1 KB\n"
     ]
    }
   ],
   "source": [
    "df['Fare'].info()"
   ]
  },
  {
   "cell_type": "markdown",
   "id": "0cc2d54a",
   "metadata": {},
   "source": [
    "Now it's time to take care of ***Age*** missing Values."
   ]
  },
  {
   "cell_type": "code",
   "execution_count": 79,
   "id": "ef5beea8",
   "metadata": {},
   "outputs": [
    {
     "data": {
      "text/plain": [
       "count    709.000000\n",
       "mean      29.687123\n",
       "std       14.509245\n",
       "min        0.420000\n",
       "25%       20.500000\n",
       "50%       28.000000\n",
       "75%       38.000000\n",
       "max       80.000000\n",
       "Name: Age, dtype: float64"
      ]
     },
     "execution_count": 79,
     "metadata": {},
     "output_type": "execute_result"
    }
   ],
   "source": [
    "df['Age'].describe()"
   ]
  },
  {
   "cell_type": "markdown",
   "id": "fae78634",
   "metadata": {},
   "source": [
    "I want to show how you can fill missing values with random values in range of most freq values (mean-std - mean+std)."
   ]
  },
  {
   "cell_type": "code",
   "execution_count": 80,
   "id": "aba91a9d",
   "metadata": {},
   "outputs": [],
   "source": [
    "# Create a series of random Age as many as missing values\n",
    "random_ages = np.random.randint(df['Age'].mean() - df['Age'].std(), \n",
    "                                df['Age'].mean() + df['Age'].std(), \n",
    "                                size = df['Age'].isnull().sum())\n",
    "\n",
    "copy_ages = df['Age'].copy()\n",
    "# Create a copy of Age feature\n",
    "\n",
    "copy_ages[np.isnan(copy_ages)] = random_ages\n",
    "# Fill missing values with random values we just created"
   ]
  },
  {
   "cell_type": "markdown",
   "id": "2f41209c",
   "metadata": {},
   "source": [
    "At the end Replace filled Column with old column with this line of code:</br>\n",
    "df['Age'] = copy_ages </br>\n",
    "\n",
    "but I don't want to go this way</br>\n",
    "I believe that Age of passengers is corelated to passenger's survival and I don't want to currupt existing information about their age by mixing them with some random numbers. so I simply leave them as they currently are. so missing values create a new category in next steps as *unknown*"
   ]
  },
  {
   "cell_type": "code",
   "execution_count": null,
   "id": "0ff9d9af",
   "metadata": {},
   "outputs": [],
   "source": []
  }
 ],
 "metadata": {
  "kernelspec": {
   "display_name": "Python 3 (ipykernel)",
   "language": "python",
   "name": "python3"
  },
  "language_info": {
   "codemirror_mode": {
    "name": "ipython",
    "version": 3
   },
   "file_extension": ".py",
   "mimetype": "text/x-python",
   "name": "python",
   "nbconvert_exporter": "python",
   "pygments_lexer": "ipython3",
   "version": "3.11.2"
  }
 },
 "nbformat": 4,
 "nbformat_minor": 5
}
