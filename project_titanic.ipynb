{
 "cells": [
  {
   "cell_type": "code",
   "execution_count": 1,
   "id": "bc89c429",
   "metadata": {},
   "outputs": [],
   "source": [
    "import pandas as pd "
   ]
  },
  {
   "cell_type": "markdown",
   "id": "95c8d7ce",
   "metadata": {},
   "source": [
    "### Read Train Dataset"
   ]
  },
  {
   "cell_type": "code",
   "execution_count": 2,
   "id": "2165e303",
   "metadata": {},
   "outputs": [],
   "source": [
    "df = pd.read_csv('train.csv')"
   ]
  },
  {
   "cell_type": "markdown",
   "id": "9bcd9551",
   "metadata": {},
   "source": [
    "This Dataset is different from Orginal Dataset in kaggle and I added some error in it manually. So first of all we need do some Data Engineering stuff to recognize and solve the issues"
   ]
  },
  {
   "cell_type": "code",
   "execution_count": 3,
   "id": "6230d944",
   "metadata": {},
   "outputs": [
    {
     "data": {
      "text/html": [
       "<div>\n",
       "<style scoped>\n",
       "    .dataframe tbody tr th:only-of-type {\n",
       "        vertical-align: middle;\n",
       "    }\n",
       "\n",
       "    .dataframe tbody tr th {\n",
       "        vertical-align: top;\n",
       "    }\n",
       "\n",
       "    .dataframe thead th {\n",
       "        text-align: right;\n",
       "    }\n",
       "</style>\n",
       "<table border=\"1\" class=\"dataframe\">\n",
       "  <thead>\n",
       "    <tr style=\"text-align: right;\">\n",
       "      <th></th>\n",
       "      <th>PassengerId</th>\n",
       "      <th>Survived</th>\n",
       "      <th>Pclass</th>\n",
       "      <th>Name</th>\n",
       "      <th>Sex</th>\n",
       "      <th>Age</th>\n",
       "      <th>SibSp</th>\n",
       "      <th>Parch</th>\n",
       "      <th>Ticket</th>\n",
       "      <th>Fare</th>\n",
       "      <th>Cabin</th>\n",
       "      <th>Embarked</th>\n",
       "    </tr>\n",
       "  </thead>\n",
       "  <tbody>\n",
       "    <tr>\n",
       "      <th>0</th>\n",
       "      <td>1</td>\n",
       "      <td>0</td>\n",
       "      <td>3</td>\n",
       "      <td>Braund, Mr. Owen Harris</td>\n",
       "      <td>male</td>\n",
       "      <td>22.0</td>\n",
       "      <td>1</td>\n",
       "      <td>0</td>\n",
       "      <td>A/5 21171</td>\n",
       "      <td>7.2500</td>\n",
       "      <td>NaN</td>\n",
       "      <td>S</td>\n",
       "    </tr>\n",
       "    <tr>\n",
       "      <th>1</th>\n",
       "      <td>2</td>\n",
       "      <td>1</td>\n",
       "      <td>1</td>\n",
       "      <td>Cumings, Mrs. John Bradley (Florence Briggs Th...</td>\n",
       "      <td>female</td>\n",
       "      <td>38.0</td>\n",
       "      <td>1</td>\n",
       "      <td>0</td>\n",
       "      <td>PC 17599</td>\n",
       "      <td>71.2833</td>\n",
       "      <td>C85</td>\n",
       "      <td>C</td>\n",
       "    </tr>\n",
       "    <tr>\n",
       "      <th>2</th>\n",
       "      <td>3</td>\n",
       "      <td>1</td>\n",
       "      <td>3</td>\n",
       "      <td>Heikkinen, Miss. Laina</td>\n",
       "      <td>female</td>\n",
       "      <td>26.0</td>\n",
       "      <td>0</td>\n",
       "      <td>0</td>\n",
       "      <td>STON/O2. 3101282</td>\n",
       "      <td>7.9250</td>\n",
       "      <td>NaN</td>\n",
       "      <td>S</td>\n",
       "    </tr>\n",
       "    <tr>\n",
       "      <th>3</th>\n",
       "      <td>4</td>\n",
       "      <td>1</td>\n",
       "      <td>1</td>\n",
       "      <td>Futrelle, Mrs. Jacques Heath (Lily May Peel)</td>\n",
       "      <td>female</td>\n",
       "      <td>35.0</td>\n",
       "      <td>1</td>\n",
       "      <td>0</td>\n",
       "      <td>113803</td>\n",
       "      <td>53.1000</td>\n",
       "      <td>C123</td>\n",
       "      <td>S</td>\n",
       "    </tr>\n",
       "    <tr>\n",
       "      <th>4</th>\n",
       "      <td>5</td>\n",
       "      <td>0</td>\n",
       "      <td>3</td>\n",
       "      <td>Allen, Mr. William Henry</td>\n",
       "      <td>male</td>\n",
       "      <td>35.0</td>\n",
       "      <td>0</td>\n",
       "      <td>0</td>\n",
       "      <td>373450</td>\n",
       "      <td>8.0500</td>\n",
       "      <td>NaN</td>\n",
       "      <td>S</td>\n",
       "    </tr>\n",
       "  </tbody>\n",
       "</table>\n",
       "</div>"
      ],
      "text/plain": [
       "   PassengerId  Survived  Pclass  \\\n",
       "0            1         0       3   \n",
       "1            2         1       1   \n",
       "2            3         1       3   \n",
       "3            4         1       1   \n",
       "4            5         0       3   \n",
       "\n",
       "                                                Name     Sex   Age SibSp  \\\n",
       "0                            Braund, Mr. Owen Harris    male  22.0     1   \n",
       "1  Cumings, Mrs. John Bradley (Florence Briggs Th...  female  38.0     1   \n",
       "2                             Heikkinen, Miss. Laina  female  26.0     0   \n",
       "3       Futrelle, Mrs. Jacques Heath (Lily May Peel)  female  35.0     1   \n",
       "4                           Allen, Mr. William Henry    male  35.0     0   \n",
       "\n",
       "  Parch            Ticket     Fare Cabin Embarked  \n",
       "0     0         A/5 21171   7.2500   NaN        S  \n",
       "1     0          PC 17599  71.2833   C85        C  \n",
       "2     0  STON/O2. 3101282   7.9250   NaN        S  \n",
       "3     0            113803  53.1000  C123        S  \n",
       "4     0            373450   8.0500   NaN        S  "
      ]
     },
     "execution_count": 3,
     "metadata": {},
     "output_type": "execute_result"
    }
   ],
   "source": [
    "df.head()"
   ]
  },
  {
   "cell_type": "code",
   "execution_count": 4,
   "id": "592ec7e1",
   "metadata": {},
   "outputs": [
    {
     "name": "stdout",
     "output_type": "stream",
     "text": [
      "<class 'pandas.core.frame.DataFrame'>\n",
      "RangeIndex: 1309 entries, 0 to 1308\n",
      "Data columns (total 12 columns):\n",
      " #   Column       Non-Null Count  Dtype  \n",
      "---  ------       --------------  -----  \n",
      " 0   PassengerId  1309 non-null   int64  \n",
      " 1   Survived     1309 non-null   int64  \n",
      " 2   Pclass       1309 non-null   int64  \n",
      " 3   Name         1309 non-null   object \n",
      " 4   Sex          1309 non-null   object \n",
      " 5   Age          1047 non-null   float64\n",
      " 6   SibSp        1309 non-null   object \n",
      " 7   Parch        1309 non-null   object \n",
      " 8   Ticket       1309 non-null   object \n",
      " 9   Fare         1308 non-null   float64\n",
      " 10  Cabin        295 non-null    object \n",
      " 11  Embarked     1307 non-null   object \n",
      "dtypes: float64(2), int64(3), object(7)\n",
      "memory usage: 122.8+ KB\n"
     ]
    }
   ],
   "source": [
    "df.info()"
   ]
  },
  {
   "cell_type": "code",
   "execution_count": 5,
   "id": "6c1cefd1",
   "metadata": {},
   "outputs": [
    {
     "data": {
      "text/html": [
       "<div>\n",
       "<style scoped>\n",
       "    .dataframe tbody tr th:only-of-type {\n",
       "        vertical-align: middle;\n",
       "    }\n",
       "\n",
       "    .dataframe tbody tr th {\n",
       "        vertical-align: top;\n",
       "    }\n",
       "\n",
       "    .dataframe thead th {\n",
       "        text-align: right;\n",
       "    }\n",
       "</style>\n",
       "<table border=\"1\" class=\"dataframe\">\n",
       "  <thead>\n",
       "    <tr style=\"text-align: right;\">\n",
       "      <th></th>\n",
       "      <th>PassengerId</th>\n",
       "      <th>Survived</th>\n",
       "      <th>Pclass</th>\n",
       "      <th>Age</th>\n",
       "      <th>Fare</th>\n",
       "    </tr>\n",
       "  </thead>\n",
       "  <tbody>\n",
       "    <tr>\n",
       "      <th>count</th>\n",
       "      <td>1309.000000</td>\n",
       "      <td>1309.000000</td>\n",
       "      <td>1309.000000</td>\n",
       "      <td>1047.000000</td>\n",
       "      <td>1308.000000</td>\n",
       "    </tr>\n",
       "    <tr>\n",
       "      <th>mean</th>\n",
       "      <td>655.000000</td>\n",
       "      <td>0.377387</td>\n",
       "      <td>2.325439</td>\n",
       "      <td>30.131490</td>\n",
       "      <td>425.079118</td>\n",
       "    </tr>\n",
       "    <tr>\n",
       "      <th>std</th>\n",
       "      <td>378.020061</td>\n",
       "      <td>0.484918</td>\n",
       "      <td>1.215774</td>\n",
       "      <td>16.482628</td>\n",
       "      <td>14171.674524</td>\n",
       "    </tr>\n",
       "    <tr>\n",
       "      <th>min</th>\n",
       "      <td>1.000000</td>\n",
       "      <td>0.000000</td>\n",
       "      <td>1.000000</td>\n",
       "      <td>-31.000000</td>\n",
       "      <td>-13.000000</td>\n",
       "    </tr>\n",
       "    <tr>\n",
       "      <th>25%</th>\n",
       "      <td>328.000000</td>\n",
       "      <td>0.000000</td>\n",
       "      <td>2.000000</td>\n",
       "      <td>21.000000</td>\n",
       "      <td>7.895800</td>\n",
       "    </tr>\n",
       "    <tr>\n",
       "      <th>50%</th>\n",
       "      <td>655.000000</td>\n",
       "      <td>0.000000</td>\n",
       "      <td>3.000000</td>\n",
       "      <td>28.000000</td>\n",
       "      <td>14.454200</td>\n",
       "    </tr>\n",
       "    <tr>\n",
       "      <th>75%</th>\n",
       "      <td>982.000000</td>\n",
       "      <td>1.000000</td>\n",
       "      <td>3.000000</td>\n",
       "      <td>39.000000</td>\n",
       "      <td>31.275000</td>\n",
       "    </tr>\n",
       "    <tr>\n",
       "      <th>max</th>\n",
       "      <td>1309.000000</td>\n",
       "      <td>1.000000</td>\n",
       "      <td>33.000000</td>\n",
       "      <td>210.000000</td>\n",
       "      <td>512566.600000</td>\n",
       "    </tr>\n",
       "  </tbody>\n",
       "</table>\n",
       "</div>"
      ],
      "text/plain": [
       "       PassengerId     Survived       Pclass          Age           Fare\n",
       "count  1309.000000  1309.000000  1309.000000  1047.000000    1308.000000\n",
       "mean    655.000000     0.377387     2.325439    30.131490     425.079118\n",
       "std     378.020061     0.484918     1.215774    16.482628   14171.674524\n",
       "min       1.000000     0.000000     1.000000   -31.000000     -13.000000\n",
       "25%     328.000000     0.000000     2.000000    21.000000       7.895800\n",
       "50%     655.000000     0.000000     3.000000    28.000000      14.454200\n",
       "75%     982.000000     1.000000     3.000000    39.000000      31.275000\n",
       "max    1309.000000     1.000000    33.000000   210.000000  512566.600000"
      ]
     },
     "execution_count": 5,
     "metadata": {},
     "output_type": "execute_result"
    }
   ],
   "source": [
    "df.describe()"
   ]
  },
  {
   "cell_type": "markdown",
   "id": "b9a7ff1b",
   "metadata": {},
   "source": [
    "### Short Description of features:\n",
    "**Survived** = Passenger survived or not </br>\n",
    "**PassengerId** = Passenger unique Id </br>\n",
    "**Pclass** = Ticket class </br>\n",
    "**Sex** = Passenger sex  </br>\n",
    "**Age** = Passenger Age *in years*  </br>\n",
    "**SibSp** = Number of siblings/spouses aboard the ship including the passenger  </br>\n",
    "**ParCh** = Number of parents/children aboard the ship including the passenger  </br>\n",
    "**Ticket** = Ticket number  </br>\n",
    "**Fare** = Passenger fare  </br>\n",
    "**Cabin** = Cabin number  </br>\n",
    "**Embarked** = Port of passenger embarkation  </br>"
   ]
  },
  {
   "cell_type": "markdown",
   "id": "dee87023",
   "metadata": {},
   "source": [
    "The Dataset has 1309 examples and 11 features + the target variable (Survived). 2 of the features are floats, 3 are integers and 7 are objects.\n",
    "Let's take a look at each feature"
   ]
  },
  {
   "cell_type": "markdown",
   "id": "45e9a83b",
   "metadata": {},
   "source": [
    "# Step 1 - Data Governance"
   ]
  },
  {
   "cell_type": "code",
   "execution_count": 6,
   "id": "ce0e08e7",
   "metadata": {},
   "outputs": [
    {
     "data": {
      "text/plain": [
       "count    1309.000000\n",
       "mean        0.377387\n",
       "std         0.484918\n",
       "min         0.000000\n",
       "25%         0.000000\n",
       "50%         0.000000\n",
       "75%         1.000000\n",
       "max         1.000000\n",
       "Name: Survived, dtype: float64"
      ]
     },
     "execution_count": 6,
     "metadata": {},
     "output_type": "execute_result"
    }
   ],
   "source": [
    "df['Survived'].describe()"
   ]
  },
  {
   "cell_type": "markdown",
   "id": "7736fff8",
   "metadata": {},
   "source": [
    "Everything seems fine"
   ]
  },
  {
   "cell_type": "code",
   "execution_count": 7,
   "id": "482a6688",
   "metadata": {},
   "outputs": [
    {
     "data": {
      "text/plain": [
       "count    1309.000000\n",
       "mean      655.000000\n",
       "std       378.020061\n",
       "min         1.000000\n",
       "25%       328.000000\n",
       "50%       655.000000\n",
       "75%       982.000000\n",
       "max      1309.000000\n",
       "Name: PassengerId, dtype: float64"
      ]
     },
     "execution_count": 7,
     "metadata": {},
     "output_type": "execute_result"
    }
   ],
   "source": [
    "df['PassengerId'].describe()"
   ]
  },
  {
   "cell_type": "markdown",
   "id": "7be71a8c",
   "metadata": {},
   "source": [
    "Everything seems fine"
   ]
  },
  {
   "cell_type": "code",
   "execution_count": 8,
   "id": "829e61ac",
   "metadata": {},
   "outputs": [
    {
     "data": {
      "text/plain": [
       "count    1309.000000\n",
       "mean        2.325439\n",
       "std         1.215774\n",
       "min         1.000000\n",
       "25%         2.000000\n",
       "50%         3.000000\n",
       "75%         3.000000\n",
       "max        33.000000\n",
       "Name: Pclass, dtype: float64"
      ]
     },
     "execution_count": 8,
     "metadata": {},
     "output_type": "execute_result"
    }
   ],
   "source": [
    "df['Pclass'].describe()"
   ]
  },
  {
   "cell_type": "markdown",
   "id": "dd505780",
   "metadata": {},
   "source": [
    "Something looks unnormal. max value and 75% and 50% and 25% and min does'n increase normal.let's look deeper on values"
   ]
  },
  {
   "cell_type": "code",
   "execution_count": 9,
   "id": "cde5ac6e",
   "metadata": {},
   "outputs": [
    {
     "data": {
      "text/plain": [
       "3     708\n",
       "1     322\n",
       "2     277\n",
       "11      1\n",
       "33      1\n",
       "Name: Pclass, dtype: int64"
      ]
     },
     "execution_count": 9,
     "metadata": {},
     "output_type": "execute_result"
    }
   ],
   "source": [
    "df['Pclass'].value_counts()"
   ]
  },
  {
   "cell_type": "markdown",
   "id": "d6bd3013",
   "metadata": {},
   "source": [
    "Values 1,2,3 looks normal but we have one 11 and one 33 that based on feature description it seems these two values are error. so we should. let's look at their rows"
   ]
  },
  {
   "cell_type": "code",
   "execution_count": 10,
   "id": "943b5eb0",
   "metadata": {},
   "outputs": [
    {
     "data": {
      "text/html": [
       "<div>\n",
       "<style scoped>\n",
       "    .dataframe tbody tr th:only-of-type {\n",
       "        vertical-align: middle;\n",
       "    }\n",
       "\n",
       "    .dataframe tbody tr th {\n",
       "        vertical-align: top;\n",
       "    }\n",
       "\n",
       "    .dataframe thead th {\n",
       "        text-align: right;\n",
       "    }\n",
       "</style>\n",
       "<table border=\"1\" class=\"dataframe\">\n",
       "  <thead>\n",
       "    <tr style=\"text-align: right;\">\n",
       "      <th></th>\n",
       "      <th>PassengerId</th>\n",
       "      <th>Survived</th>\n",
       "      <th>Pclass</th>\n",
       "      <th>Name</th>\n",
       "      <th>Sex</th>\n",
       "      <th>Age</th>\n",
       "      <th>SibSp</th>\n",
       "      <th>Parch</th>\n",
       "      <th>Ticket</th>\n",
       "      <th>Fare</th>\n",
       "      <th>Cabin</th>\n",
       "      <th>Embarked</th>\n",
       "    </tr>\n",
       "  </thead>\n",
       "  <tbody>\n",
       "    <tr>\n",
       "      <th>11</th>\n",
       "      <td>12</td>\n",
       "      <td>1</td>\n",
       "      <td>11</td>\n",
       "      <td>Bonnell, Miss. Elizabeth</td>\n",
       "      <td>Female</td>\n",
       "      <td>58.0</td>\n",
       "      <td>0</td>\n",
       "      <td>0</td>\n",
       "      <td>113783</td>\n",
       "      <td>26.55</td>\n",
       "      <td>C103</td>\n",
       "      <td>S</td>\n",
       "    </tr>\n",
       "  </tbody>\n",
       "</table>\n",
       "</div>"
      ],
      "text/plain": [
       "    PassengerId  Survived  Pclass                      Name     Sex   Age  \\\n",
       "11           12         1      11  Bonnell, Miss. Elizabeth  Female  58.0   \n",
       "\n",
       "   SibSp Parch  Ticket   Fare Cabin Embarked  \n",
       "11     0     0  113783  26.55  C103        S  "
      ]
     },
     "execution_count": 10,
     "metadata": {},
     "output_type": "execute_result"
    }
   ],
   "source": [
    "df[df['Pclass']==11]"
   ]
  },
  {
   "cell_type": "code",
   "execution_count": 11,
   "id": "20fd12ba",
   "metadata": {},
   "outputs": [
    {
     "data": {
      "text/html": [
       "<div>\n",
       "<style scoped>\n",
       "    .dataframe tbody tr th:only-of-type {\n",
       "        vertical-align: middle;\n",
       "    }\n",
       "\n",
       "    .dataframe tbody tr th {\n",
       "        vertical-align: top;\n",
       "    }\n",
       "\n",
       "    .dataframe thead th {\n",
       "        text-align: right;\n",
       "    }\n",
       "</style>\n",
       "<table border=\"1\" class=\"dataframe\">\n",
       "  <thead>\n",
       "    <tr style=\"text-align: right;\">\n",
       "      <th></th>\n",
       "      <th>PassengerId</th>\n",
       "      <th>Survived</th>\n",
       "      <th>Pclass</th>\n",
       "      <th>Name</th>\n",
       "      <th>Sex</th>\n",
       "      <th>Age</th>\n",
       "      <th>SibSp</th>\n",
       "      <th>Parch</th>\n",
       "      <th>Ticket</th>\n",
       "      <th>Fare</th>\n",
       "      <th>Cabin</th>\n",
       "      <th>Embarked</th>\n",
       "    </tr>\n",
       "  </thead>\n",
       "  <tbody>\n",
       "    <tr>\n",
       "      <th>401</th>\n",
       "      <td>402</td>\n",
       "      <td>0</td>\n",
       "      <td>33</td>\n",
       "      <td>Adams, Mr. John</td>\n",
       "      <td>male</td>\n",
       "      <td>26.0</td>\n",
       "      <td>0</td>\n",
       "      <td>0</td>\n",
       "      <td>341826</td>\n",
       "      <td>8.05</td>\n",
       "      <td>NaN</td>\n",
       "      <td>S</td>\n",
       "    </tr>\n",
       "  </tbody>\n",
       "</table>\n",
       "</div>"
      ],
      "text/plain": [
       "     PassengerId  Survived  Pclass             Name   Sex   Age SibSp Parch  \\\n",
       "401          402         0      33  Adams, Mr. John  male  26.0     0     0   \n",
       "\n",
       "     Ticket  Fare Cabin Embarked  \n",
       "401  341826  8.05   NaN        S  "
      ]
     },
     "execution_count": 11,
     "metadata": {},
     "output_type": "execute_result"
    }
   ],
   "source": [
    "df[df['Pclass']==33]"
   ]
  },
  {
   "cell_type": "markdown",
   "id": "c4b4e391",
   "metadata": {},
   "source": [
    "The other values seems alright and it seems there is no other issue in them. </br>\n",
    "So we have two options: </br>\n",
    "1- fill them with Null values </br>\n",
    "2- based on the other values in this feature, maybe it was an input error so the value 11 is an error for value 1, and value 33 is an error for value 3. so maybe we can replace them with the currect values 1,3. </br>\n",
    "I decided to replace them with the currect values."
   ]
  },
  {
   "cell_type": "code",
   "execution_count": 12,
   "id": "03112996",
   "metadata": {},
   "outputs": [],
   "source": [
    "df['Pclass'].replace(11,1, inplace=True)"
   ]
  },
  {
   "cell_type": "code",
   "execution_count": 13,
   "id": "d168203d",
   "metadata": {},
   "outputs": [],
   "source": [
    "df['Pclass'].replace(33,3, inplace=True)"
   ]
  },
  {
   "cell_type": "code",
   "execution_count": 14,
   "id": "315b8c0c",
   "metadata": {},
   "outputs": [
    {
     "data": {
      "text/plain": [
       "3    709\n",
       "1    323\n",
       "2    277\n",
       "Name: Pclass, dtype: int64"
      ]
     },
     "execution_count": 14,
     "metadata": {},
     "output_type": "execute_result"
    }
   ],
   "source": [
    "df['Pclass'].value_counts()"
   ]
  },
  {
   "cell_type": "code",
   "execution_count": 15,
   "id": "6f31e232",
   "metadata": {},
   "outputs": [
    {
     "data": {
      "text/plain": [
       "count    1309.000000\n",
       "mean        2.294882\n",
       "std         0.837836\n",
       "min         1.000000\n",
       "25%         2.000000\n",
       "50%         3.000000\n",
       "75%         3.000000\n",
       "max         3.000000\n",
       "Name: Pclass, dtype: float64"
      ]
     },
     "execution_count": 15,
     "metadata": {},
     "output_type": "execute_result"
    }
   ],
   "source": [
    "df['Pclass'].describe()"
   ]
  },
  {
   "cell_type": "markdown",
   "id": "ea2d5ef2",
   "metadata": {},
   "source": [
    "now everything looks normal </br>\n",
    "Let's go to the next feature"
   ]
  },
  {
   "cell_type": "code",
   "execution_count": 16,
   "id": "e7c500c3",
   "metadata": {},
   "outputs": [
    {
     "data": {
      "text/plain": [
       "count     1309\n",
       "unique      11\n",
       "top       male\n",
       "freq       837\n",
       "Name: Sex, dtype: object"
      ]
     },
     "execution_count": 16,
     "metadata": {},
     "output_type": "execute_result"
    }
   ],
   "source": [
    "df['Sex'].describe()"
   ]
  },
  {
   "cell_type": "markdown",
   "id": "48557086",
   "metadata": {},
   "source": [
    "We have 8 unique values in Sex? it's not normal. Let's look inside"
   ]
  },
  {
   "cell_type": "code",
   "execution_count": 17,
   "id": "bffdf2ad",
   "metadata": {},
   "outputs": [
    {
     "data": {
      "text/plain": [
       "array(['male', 'female', 'Female', 'malee', 'FEMALE', 'MALE', 'Male',\n",
       "       'malle', 'femal', 'femmale', 'mmale'], dtype=object)"
      ]
     },
     "execution_count": 17,
     "metadata": {},
     "output_type": "execute_result"
    }
   ],
   "source": [
    "df['Sex'].unique()"
   ]
  },
  {
   "cell_type": "markdown",
   "id": "b05bcba9",
   "metadata": {},
   "source": [
    "Oh, there is some Upper case and Lower case version of Male and Female value."
   ]
  },
  {
   "cell_type": "code",
   "execution_count": 18,
   "id": "316f6ad6",
   "metadata": {},
   "outputs": [
    {
     "data": {
      "text/plain": [
       "male       837\n",
       "female     462\n",
       "malle        2\n",
       "Female       1\n",
       "malee        1\n",
       "FEMALE       1\n",
       "MALE         1\n",
       "Male         1\n",
       "femal        1\n",
       "femmale      1\n",
       "mmale        1\n",
       "Name: Sex, dtype: int64"
      ]
     },
     "execution_count": 18,
     "metadata": {},
     "output_type": "execute_result"
    }
   ],
   "source": [
    "df['Sex'].value_counts()"
   ]
  },
  {
   "cell_type": "markdown",
   "id": "b6401e2d",
   "metadata": {},
   "source": [
    "Ok, male and female are main values and the others should be convert to lower case"
   ]
  },
  {
   "cell_type": "code",
   "execution_count": 19,
   "id": "dd63ac42",
   "metadata": {},
   "outputs": [],
   "source": [
    "df['Sex'] = df['Sex'].apply(str.lower)"
   ]
  },
  {
   "cell_type": "code",
   "execution_count": 20,
   "id": "ecc1abe4",
   "metadata": {},
   "outputs": [
    {
     "data": {
      "text/plain": [
       "male       839\n",
       "female     464\n",
       "malle        2\n",
       "malee        1\n",
       "femal        1\n",
       "femmale      1\n",
       "mmale        1\n",
       "Name: Sex, dtype: int64"
      ]
     },
     "execution_count": 20,
     "metadata": {},
     "output_type": "execute_result"
    }
   ],
   "source": [
    "df['Sex'].value_counts()"
   ]
  },
  {
   "cell_type": "markdown",
   "id": "cda26987",
   "metadata": {},
   "source": [
    "Ok, besides that, we have some other wrong input for male like malle and for female like femal. Let's correct them too."
   ]
  },
  {
   "cell_type": "code",
   "execution_count": 21,
   "id": "627dd2f6",
   "metadata": {},
   "outputs": [],
   "source": [
    "female_group = ['femal', 'femmale']\n",
    "df['Sex'].replace(female_group, 'female', inplace=True)"
   ]
  },
  {
   "cell_type": "code",
   "execution_count": 22,
   "id": "862335e5",
   "metadata": {},
   "outputs": [],
   "source": [
    "male_group = ['malle', 'malee', 'mmale']\n",
    "df['Sex'].replace(male_group, 'male', inplace=True)"
   ]
  },
  {
   "cell_type": "code",
   "execution_count": 23,
   "id": "6b5479bf",
   "metadata": {},
   "outputs": [
    {
     "data": {
      "text/plain": [
       "male      843\n",
       "female    466\n",
       "Name: Sex, dtype: int64"
      ]
     },
     "execution_count": 23,
     "metadata": {},
     "output_type": "execute_result"
    }
   ],
   "source": [
    "df['Sex'].value_counts()"
   ]
  },
  {
   "cell_type": "markdown",
   "id": "92ad83e7",
   "metadata": {},
   "source": [
    "now everything looks normal </br>\n",
    "Let's go to the next feature"
   ]
  },
  {
   "cell_type": "code",
   "execution_count": 24,
   "id": "ef5487a5",
   "metadata": {},
   "outputs": [
    {
     "data": {
      "text/plain": [
       "count    1047.000000\n",
       "mean       30.131490\n",
       "std        16.482628\n",
       "min       -31.000000\n",
       "25%        21.000000\n",
       "50%        28.000000\n",
       "75%        39.000000\n",
       "max       210.000000\n",
       "Name: Age, dtype: float64"
      ]
     },
     "execution_count": 24,
     "metadata": {},
     "output_type": "execute_result"
    }
   ],
   "source": [
    "df['Age'].describe()"
   ]
  },
  {
   "cell_type": "markdown",
   "id": "a2ba9c86",
   "metadata": {},
   "source": [
    "Wow, min and max values seems incorrect. let's check them all"
   ]
  },
  {
   "cell_type": "code",
   "execution_count": 25,
   "id": "18e7d240",
   "metadata": {},
   "outputs": [
    {
     "data": {
      "text/html": [
       "<div>\n",
       "<style scoped>\n",
       "    .dataframe tbody tr th:only-of-type {\n",
       "        vertical-align: middle;\n",
       "    }\n",
       "\n",
       "    .dataframe tbody tr th {\n",
       "        vertical-align: top;\n",
       "    }\n",
       "\n",
       "    .dataframe thead th {\n",
       "        text-align: right;\n",
       "    }\n",
       "</style>\n",
       "<table border=\"1\" class=\"dataframe\">\n",
       "  <thead>\n",
       "    <tr style=\"text-align: right;\">\n",
       "      <th></th>\n",
       "      <th>PassengerId</th>\n",
       "      <th>Survived</th>\n",
       "      <th>Pclass</th>\n",
       "      <th>Name</th>\n",
       "      <th>Sex</th>\n",
       "      <th>Age</th>\n",
       "      <th>SibSp</th>\n",
       "      <th>Parch</th>\n",
       "      <th>Ticket</th>\n",
       "      <th>Fare</th>\n",
       "      <th>Cabin</th>\n",
       "      <th>Embarked</th>\n",
       "    </tr>\n",
       "  </thead>\n",
       "  <tbody>\n",
       "    <tr>\n",
       "      <th>12</th>\n",
       "      <td>13</td>\n",
       "      <td>0</td>\n",
       "      <td>3</td>\n",
       "      <td>Saundercock, Mr. William Henry</td>\n",
       "      <td>male</td>\n",
       "      <td>-20.0</td>\n",
       "      <td>0</td>\n",
       "      <td>0</td>\n",
       "      <td>A/5. 2151</td>\n",
       "      <td>8.0500</td>\n",
       "      <td>NaN</td>\n",
       "      <td>S</td>\n",
       "    </tr>\n",
       "    <tr>\n",
       "      <th>174</th>\n",
       "      <td>175</td>\n",
       "      <td>0</td>\n",
       "      <td>1</td>\n",
       "      <td>Smith, Mr. James Clinch</td>\n",
       "      <td>male</td>\n",
       "      <td>156.0</td>\n",
       "      <td>0</td>\n",
       "      <td>0</td>\n",
       "      <td>17764</td>\n",
       "      <td>30.6958</td>\n",
       "      <td>A7</td>\n",
       "      <td>C</td>\n",
       "    </tr>\n",
       "    <tr>\n",
       "      <th>237</th>\n",
       "      <td>238</td>\n",
       "      <td>1</td>\n",
       "      <td>2</td>\n",
       "      <td>Collyer, Miss. Marjorie \"Lottie\"</td>\n",
       "      <td>female</td>\n",
       "      <td>-8.0</td>\n",
       "      <td>0</td>\n",
       "      <td>2</td>\n",
       "      <td>C.A. 31921</td>\n",
       "      <td>26.2500</td>\n",
       "      <td>NaN</td>\n",
       "      <td>S</td>\n",
       "    </tr>\n",
       "    <tr>\n",
       "      <th>368</th>\n",
       "      <td>369</td>\n",
       "      <td>1</td>\n",
       "      <td>3</td>\n",
       "      <td>Jermyn, Miss. Annie</td>\n",
       "      <td>female</td>\n",
       "      <td>210.0</td>\n",
       "      <td>0</td>\n",
       "      <td>0</td>\n",
       "      <td>14313</td>\n",
       "      <td>7.7500</td>\n",
       "      <td>NaN</td>\n",
       "      <td>Q</td>\n",
       "    </tr>\n",
       "    <tr>\n",
       "      <th>432</th>\n",
       "      <td>433</td>\n",
       "      <td>1</td>\n",
       "      <td>2</td>\n",
       "      <td>Louch, Mrs. Charles Alexander (Alice Adelaide ...</td>\n",
       "      <td>female</td>\n",
       "      <td>142.0</td>\n",
       "      <td>1</td>\n",
       "      <td>0</td>\n",
       "      <td>SC/AH 3085</td>\n",
       "      <td>26.0000</td>\n",
       "      <td>NaN</td>\n",
       "      <td>S</td>\n",
       "    </tr>\n",
       "    <tr>\n",
       "      <th>673</th>\n",
       "      <td>674</td>\n",
       "      <td>1</td>\n",
       "      <td>2</td>\n",
       "      <td>Wilhelms, Mr. Charles</td>\n",
       "      <td>male</td>\n",
       "      <td>-31.0</td>\n",
       "      <td>0</td>\n",
       "      <td>0</td>\n",
       "      <td>244270</td>\n",
       "      <td>13.0000</td>\n",
       "      <td>NaN</td>\n",
       "      <td>S</td>\n",
       "    </tr>\n",
       "  </tbody>\n",
       "</table>\n",
       "</div>"
      ],
      "text/plain": [
       "     PassengerId  Survived  Pclass  \\\n",
       "12            13         0       3   \n",
       "174          175         0       1   \n",
       "237          238         1       2   \n",
       "368          369         1       3   \n",
       "432          433         1       2   \n",
       "673          674         1       2   \n",
       "\n",
       "                                                  Name     Sex    Age SibSp  \\\n",
       "12                      Saundercock, Mr. William Henry    male  -20.0     0   \n",
       "174                            Smith, Mr. James Clinch    male  156.0     0   \n",
       "237                   Collyer, Miss. Marjorie \"Lottie\"  female   -8.0     0   \n",
       "368                                Jermyn, Miss. Annie  female  210.0     0   \n",
       "432  Louch, Mrs. Charles Alexander (Alice Adelaide ...  female  142.0     1   \n",
       "673                              Wilhelms, Mr. Charles    male  -31.0     0   \n",
       "\n",
       "    Parch      Ticket     Fare Cabin Embarked  \n",
       "12      0   A/5. 2151   8.0500   NaN        S  \n",
       "174     0       17764  30.6958    A7        C  \n",
       "237     2  C.A. 31921  26.2500   NaN        S  \n",
       "368     0       14313   7.7500   NaN        Q  \n",
       "432     0  SC/AH 3085  26.0000   NaN        S  \n",
       "673     0      244270  13.0000   NaN        S  "
      ]
     },
     "execution_count": 25,
     "metadata": {},
     "output_type": "execute_result"
    }
   ],
   "source": [
    "df[(df['Age'] < 0) | (df['Age'] > 100)]"
   ]
  },
  {
   "cell_type": "markdown",
   "id": "185b6315",
   "metadata": {},
   "source": [
    "For negetive values for Age we can replace them with exact positive values and also we can replace them with Null values. For values more than usual maximum age, let's take a look at higher values"
   ]
  },
  {
   "cell_type": "code",
   "execution_count": 26,
   "id": "30968c89",
   "metadata": {},
   "outputs": [
    {
     "data": {
      "text/plain": [
       "80.0"
      ]
     },
     "execution_count": 26,
     "metadata": {},
     "output_type": "execute_result"
    }
   ],
   "source": [
    "df[(df['Age'] >= 0) & (df['Age'] <= 100)]['Age'].max()"
   ]
  },
  {
   "cell_type": "markdown",
   "id": "bb8f6e5b",
   "metadata": {},
   "source": [
    "So, the maximum Age under 100 is 80, that looks normal for a passenger. Let's continue remove incorrect Age values"
   ]
  },
  {
   "cell_type": "code",
   "execution_count": 27,
   "id": "dd39d801",
   "metadata": {},
   "outputs": [],
   "source": [
    "import numpy as np"
   ]
  },
  {
   "cell_type": "code",
   "execution_count": 28,
   "id": "27fdce2d",
   "metadata": {},
   "outputs": [],
   "source": [
    "df.loc[(df['Age'] < 0) | (df['Age'] > 100), 'Age'] = np.nan"
   ]
  },
  {
   "cell_type": "code",
   "execution_count": 29,
   "id": "a622fdda",
   "metadata": {},
   "outputs": [
    {
     "data": {
      "text/plain": [
       "count    1041.000000\n",
       "mean       29.873842\n",
       "std        14.401212\n",
       "min         0.170000\n",
       "25%        21.000000\n",
       "50%        28.000000\n",
       "75%        39.000000\n",
       "max        80.000000\n",
       "Name: Age, dtype: float64"
      ]
     },
     "execution_count": 29,
     "metadata": {},
     "output_type": "execute_result"
    }
   ],
   "source": [
    "df['Age'].describe()"
   ]
  },
  {
   "cell_type": "markdown",
   "id": "50ab10f7",
   "metadata": {},
   "source": [
    "now everything looks normal </br>\n",
    "Let's go to the next feature"
   ]
  },
  {
   "cell_type": "code",
   "execution_count": 30,
   "id": "fe59dda7",
   "metadata": {},
   "outputs": [
    {
     "data": {
      "text/plain": [
       "count     1309\n",
       "unique      11\n",
       "top          0\n",
       "freq       888\n",
       "Name: SibSp, dtype: object"
      ]
     },
     "execution_count": 30,
     "metadata": {},
     "output_type": "execute_result"
    }
   ],
   "source": [
    "df['SibSp'].describe()"
   ]
  },
  {
   "cell_type": "markdown",
   "id": "6e8df3f7",
   "metadata": {},
   "source": [
    "SibSp comes for Number of First-degree relatives boarded on ship together but type of this feature is Object so something is wrong. lets look at unique values"
   ]
  },
  {
   "cell_type": "code",
   "execution_count": 31,
   "id": "3d4f0337",
   "metadata": {},
   "outputs": [
    {
     "data": {
      "text/plain": [
       "array(['1', '0', '3', '4', 'NO', '2', '5', '-1', '8', '-2', 'YES'],\n",
       "      dtype=object)"
      ]
     },
     "execution_count": 31,
     "metadata": {},
     "output_type": "execute_result"
    }
   ],
   "source": [
    "df['SibSp'].unique()"
   ]
  },
  {
   "cell_type": "markdown",
   "id": "f817e422",
   "metadata": {},
   "source": [
    "We have some incorrect enteries here, like **NO** or **YES** or even **-1** and **-2**. lets count them all"
   ]
  },
  {
   "cell_type": "code",
   "execution_count": 32,
   "id": "53af730e",
   "metadata": {},
   "outputs": [
    {
     "data": {
      "text/plain": [
       "0      888\n",
       "1      317\n",
       "2       41\n",
       "4       22\n",
       "3       20\n",
       "8        9\n",
       "5        6\n",
       "NO       2\n",
       "YES      2\n",
       "-1       1\n",
       "-2       1\n",
       "Name: SibSp, dtype: int64"
      ]
     },
     "execution_count": 32,
     "metadata": {},
     "output_type": "execute_result"
    }
   ],
   "source": [
    "df['SibSp'].value_counts()"
   ]
  },
  {
   "cell_type": "markdown",
   "id": "3e59d3cb",
   "metadata": {},
   "source": [
    "Ok, there is a few incorrect values. Let's check them one by one: </br>\n",
    "***NO*** means the passenger is alone so we can replace them with 0 </br>\n",
    "***YES*** means the passenger is not alone but we don't know how many other passengers are with this passenger so we can't replace it with a exact number. The count of values says that 0 with 888 frequency is on top of the list, but we are looking for a number except 0. the next one is 1 with 317 frequency, so we can replace **YES** with 1.</br>\n",
    "***-1 and -2*** could be a entery mistake more than a incorrect value, so we can simply positive them"
   ]
  },
  {
   "cell_type": "code",
   "execution_count": 33,
   "id": "1d426429",
   "metadata": {},
   "outputs": [],
   "source": [
    "df['SibSp'].replace('NO', 0, inplace=True)"
   ]
  },
  {
   "cell_type": "code",
   "execution_count": 34,
   "id": "9be217ab",
   "metadata": {},
   "outputs": [],
   "source": [
    "df['SibSp'].replace('YES', 1, inplace=True)"
   ]
  },
  {
   "cell_type": "markdown",
   "id": "9e353535",
   "metadata": {},
   "source": [
    "Now, the feature has not any non-number values so before processing ***-1*** and ***-2*** it's better to convert the feature type to int"
   ]
  },
  {
   "cell_type": "code",
   "execution_count": 35,
   "id": "f0c8c542",
   "metadata": {},
   "outputs": [],
   "source": [
    "df['SibSp'] = df['SibSp'].astype(int)"
   ]
  },
  {
   "cell_type": "code",
   "execution_count": 36,
   "id": "3119fe9c",
   "metadata": {},
   "outputs": [],
   "source": [
    "def make_positive(x):\n",
    "    if x < 0:\n",
    "        return x * -1\n",
    "    return x\n",
    "\n",
    "df['SibSp'] = df['SibSp'].apply(make_positive)"
   ]
  },
  {
   "cell_type": "code",
   "execution_count": 37,
   "id": "09119f2a",
   "metadata": {},
   "outputs": [
    {
     "data": {
      "text/plain": [
       "array([1, 0, 3, 4, 2, 5, 8], dtype=int64)"
      ]
     },
     "execution_count": 37,
     "metadata": {},
     "output_type": "execute_result"
    }
   ],
   "source": [
    "df['SibSp'].unique()"
   ]
  },
  {
   "cell_type": "code",
   "execution_count": 38,
   "id": "2e1b652d",
   "metadata": {},
   "outputs": [
    {
     "data": {
      "text/plain": [
       "0    890\n",
       "1    320\n",
       "2     42\n",
       "4     22\n",
       "3     20\n",
       "8      9\n",
       "5      6\n",
       "Name: SibSp, dtype: int64"
      ]
     },
     "execution_count": 38,
     "metadata": {},
     "output_type": "execute_result"
    }
   ],
   "source": [
    "df['SibSp'].value_counts()"
   ]
  },
  {
   "cell_type": "markdown",
   "id": "e8e926b5",
   "metadata": {},
   "source": [
    "now everything looks normal </br>\n",
    "Let's go to the next feature"
   ]
  },
  {
   "cell_type": "code",
   "execution_count": 39,
   "id": "0d22e2b0",
   "metadata": {},
   "outputs": [
    {
     "data": {
      "text/plain": [
       "count     1309\n",
       "unique      12\n",
       "top          0\n",
       "freq       998\n",
       "Name: Parch, dtype: object"
      ]
     },
     "execution_count": 39,
     "metadata": {},
     "output_type": "execute_result"
    }
   ],
   "source": [
    "df['Parch'].describe()"
   ]
  },
  {
   "cell_type": "code",
   "execution_count": 40,
   "id": "1a22090e",
   "metadata": {},
   "outputs": [
    {
     "data": {
      "text/plain": [
       "array(['0', '1', '2', '5', 'O', '3', '4', 'PC', 'F.C.C', 'WE', '6', '9'],\n",
       "      dtype=object)"
      ]
     },
     "execution_count": 40,
     "metadata": {},
     "output_type": "execute_result"
    }
   ],
   "source": [
    "df['Parch'].unique()"
   ]
  },
  {
   "cell_type": "code",
   "execution_count": 41,
   "id": "c1291779",
   "metadata": {},
   "outputs": [
    {
     "data": {
      "text/plain": [
       "0        998\n",
       "1        169\n",
       "2        112\n",
       "3          8\n",
       "5          6\n",
       "4          6\n",
       "O          3\n",
       "6          2\n",
       "9          2\n",
       "PC         1\n",
       "F.C.C      1\n",
       "WE         1\n",
       "Name: Parch, dtype: int64"
      ]
     },
     "execution_count": 41,
     "metadata": {},
     "output_type": "execute_result"
    }
   ],
   "source": [
    "df['Parch'].value_counts()"
   ]
  },
  {
   "cell_type": "markdown",
   "id": "6a97ecb7",
   "metadata": {},
   "source": [
    "The Parch feature is also about number of First-Class family so it should be number but its type is object because there is some incorrect values like ***PC*** or ***F.C.C*** or ***O*** in it. </br>\n",
    "***O*** and ***0*** are the same in many cases so we can replace ***O*** with ***0*** </br>\n",
    "the other String values are incorrect and should replace with ***0***</br>"
   ]
  },
  {
   "cell_type": "code",
   "execution_count": 42,
   "id": "ce048e3a",
   "metadata": {},
   "outputs": [],
   "source": [
    "def convert_to_int(x):\n",
    "    try:\n",
    "        return int(x)\n",
    "    except ValueError as ve:\n",
    "        return 0\n",
    "    \n",
    "\n",
    "df['Parch'] = df['Parch'].apply(convert_to_int)"
   ]
  },
  {
   "cell_type": "markdown",
   "id": "1fe453c7",
   "metadata": {},
   "source": [
    "because in every scenario the incorrect value should replace with ***0*** and type of all incorrect values is *string*, so I try to convert every value in this feature to int and ofcourse string values raise error during conversion so simply the function return ***0*** in exceptions."
   ]
  },
  {
   "cell_type": "code",
   "execution_count": 43,
   "id": "291b4e41",
   "metadata": {},
   "outputs": [
    {
     "data": {
      "text/plain": [
       "0    1004\n",
       "1     169\n",
       "2     112\n",
       "3       8\n",
       "5       6\n",
       "4       6\n",
       "6       2\n",
       "9       2\n",
       "Name: Parch, dtype: int64"
      ]
     },
     "execution_count": 43,
     "metadata": {},
     "output_type": "execute_result"
    }
   ],
   "source": [
    "df['Parch'].value_counts()"
   ]
  },
  {
   "cell_type": "markdown",
   "id": "73f7d761",
   "metadata": {},
   "source": [
    "now everything looks normal </br>\n",
    "Let's go to the next feature"
   ]
  },
  {
   "cell_type": "code",
   "execution_count": 44,
   "id": "b7e29d0d",
   "metadata": {},
   "outputs": [
    {
     "data": {
      "text/plain": [
       "count         1309\n",
       "unique         929\n",
       "top       CA. 2343\n",
       "freq            11\n",
       "Name: Ticket, dtype: object"
      ]
     },
     "execution_count": 44,
     "metadata": {},
     "output_type": "execute_result"
    }
   ],
   "source": [
    "df['Ticket'].describe()"
   ]
  },
  {
   "cell_type": "code",
   "execution_count": 45,
   "id": "249be7d9",
   "metadata": {},
   "outputs": [
    {
     "data": {
      "text/plain": [
       "0           A/5 21171\n",
       "1            PC 17599\n",
       "2    STON/O2. 3101282\n",
       "3              113803\n",
       "4              373450\n",
       "5              330877\n",
       "6               17463\n",
       "7              349909\n",
       "8              347742\n",
       "9              237736\n",
       "Name: Ticket, dtype: object"
      ]
     },
     "execution_count": 45,
     "metadata": {},
     "output_type": "execute_result"
    }
   ],
   "source": [
    "df['Ticket'].head(10)"
   ]
  },
  {
   "cell_type": "code",
   "execution_count": 46,
   "id": "e23ffb81",
   "metadata": {},
   "outputs": [
    {
     "name": "stdout",
     "output_type": "stream",
     "text": [
      "<class 'pandas.core.series.Series'>\n",
      "RangeIndex: 1309 entries, 0 to 1308\n",
      "Series name: Ticket\n",
      "Non-Null Count  Dtype \n",
      "--------------  ----- \n",
      "1309 non-null   object\n",
      "dtypes: object(1)\n",
      "memory usage: 10.4+ KB\n"
     ]
    }
   ],
   "source": [
    "df['Ticket'].info()"
   ]
  },
  {
   "cell_type": "markdown",
   "id": "e7aca9c9",
   "metadata": {},
   "source": [
    "most of ticket numbers are unique and I don't think this feature has any relation to a passenger survive or not and we probably will drop this feature. so let's go to the next feature"
   ]
  },
  {
   "cell_type": "code",
   "execution_count": 47,
   "id": "c5610104",
   "metadata": {},
   "outputs": [
    {
     "name": "stdout",
     "output_type": "stream",
     "text": [
      "<class 'pandas.core.series.Series'>\n",
      "RangeIndex: 1309 entries, 0 to 1308\n",
      "Series name: Fare\n",
      "Non-Null Count  Dtype  \n",
      "--------------  -----  \n",
      "1308 non-null   float64\n",
      "dtypes: float64(1)\n",
      "memory usage: 10.4 KB\n"
     ]
    }
   ],
   "source": [
    "df['Fare'].info()"
   ]
  },
  {
   "cell_type": "code",
   "execution_count": 48,
   "id": "48d455e3",
   "metadata": {},
   "outputs": [
    {
     "data": {
      "text/plain": [
       "count      1308.000000\n",
       "mean        425.079118\n",
       "std       14171.674524\n",
       "min         -13.000000\n",
       "25%           7.895800\n",
       "50%          14.454200\n",
       "75%          31.275000\n",
       "max      512566.600000\n",
       "Name: Fare, dtype: float64"
      ]
     },
     "execution_count": 48,
     "metadata": {},
     "output_type": "execute_result"
    }
   ],
   "source": [
    "df['Fare'].describe()"
   ]
  },
  {
   "cell_type": "markdown",
   "id": "203f8a4a",
   "metadata": {},
   "source": [
    "I see some incorrect values in ***Fare*** feature like ***-13*** which is under Zero or ***512566.6*** which is too high for a ticket price. for values below zero we can erase them but for very high values, first we need to know normal range of ticket. to do so we can use std mean"
   ]
  },
  {
   "cell_type": "code",
   "execution_count": 49,
   "id": "773b7693",
   "metadata": {},
   "outputs": [
    {
     "data": {
      "text/plain": [
       "14171.67452379786"
      ]
     },
     "execution_count": 49,
     "metadata": {},
     "output_type": "execute_result"
    }
   ],
   "source": [
    "df['Fare'].std()"
   ]
  },
  {
   "cell_type": "code",
   "execution_count": 50,
   "id": "47c35add",
   "metadata": {},
   "outputs": [
    {
     "data": {
      "text/plain": [
       "425.07911842507644"
      ]
     },
     "execution_count": 50,
     "metadata": {},
     "output_type": "execute_result"
    }
   ],
   "source": [
    "df['Fare'].mean()"
   ]
  },
  {
   "cell_type": "code",
   "execution_count": 51,
   "id": "7956e10c",
   "metadata": {},
   "outputs": [
    {
     "data": {
      "text/html": [
       "<div>\n",
       "<style scoped>\n",
       "    .dataframe tbody tr th:only-of-type {\n",
       "        vertical-align: middle;\n",
       "    }\n",
       "\n",
       "    .dataframe tbody tr th {\n",
       "        vertical-align: top;\n",
       "    }\n",
       "\n",
       "    .dataframe thead th {\n",
       "        text-align: right;\n",
       "    }\n",
       "</style>\n",
       "<table border=\"1\" class=\"dataframe\">\n",
       "  <thead>\n",
       "    <tr style=\"text-align: right;\">\n",
       "      <th></th>\n",
       "      <th>PassengerId</th>\n",
       "      <th>Survived</th>\n",
       "      <th>Pclass</th>\n",
       "      <th>Name</th>\n",
       "      <th>Sex</th>\n",
       "      <th>Age</th>\n",
       "      <th>SibSp</th>\n",
       "      <th>Parch</th>\n",
       "      <th>Ticket</th>\n",
       "      <th>Fare</th>\n",
       "      <th>Cabin</th>\n",
       "      <th>Embarked</th>\n",
       "    </tr>\n",
       "  </thead>\n",
       "  <tbody>\n",
       "    <tr>\n",
       "      <th>336</th>\n",
       "      <td>337</td>\n",
       "      <td>0</td>\n",
       "      <td>1</td>\n",
       "      <td>Pears, Mr. Thomas Clinton</td>\n",
       "      <td>male</td>\n",
       "      <td>29.0</td>\n",
       "      <td>1</td>\n",
       "      <td>0</td>\n",
       "      <td>113776</td>\n",
       "      <td>512566.6</td>\n",
       "      <td>C2</td>\n",
       "      <td>S</td>\n",
       "    </tr>\n",
       "  </tbody>\n",
       "</table>\n",
       "</div>"
      ],
      "text/plain": [
       "     PassengerId  Survived  Pclass                       Name   Sex   Age  \\\n",
       "336          337         0       1  Pears, Mr. Thomas Clinton  male  29.0   \n",
       "\n",
       "     SibSp  Parch  Ticket      Fare Cabin Embarked  \n",
       "336      1      0  113776  512566.6    C2        S  "
      ]
     },
     "execution_count": 51,
     "metadata": {},
     "output_type": "execute_result"
    }
   ],
   "source": [
    "df[df['Fare'] > (df['Fare'].mean() + df['Fare'].std())]"
   ]
  },
  {
   "cell_type": "code",
   "execution_count": 52,
   "id": "c4b62059",
   "metadata": {},
   "outputs": [
    {
     "data": {
      "text/plain": [
       "512.3292"
      ]
     },
     "execution_count": 52,
     "metadata": {},
     "output_type": "execute_result"
    }
   ],
   "source": [
    "df[df['Fare'] < (df['Fare'].mean() + df['Fare'].std())]['Fare'].max()"
   ]
  },
  {
   "cell_type": "markdown",
   "id": "98ee30e3",
   "metadata": {},
   "source": [
    "It seems that we just have a single record with very high value and without that record, maximum Fare will be 512ish. so we can simply replace its value with Null"
   ]
  },
  {
   "cell_type": "code",
   "execution_count": 53,
   "id": "da2b2e9a",
   "metadata": {},
   "outputs": [],
   "source": [
    "df.loc[(df['Fare'] < 0) | (df['Fare'] > (df['Fare'].mean() + df['Fare'].std())), 'Fare'] = np.nan"
   ]
  },
  {
   "cell_type": "code",
   "execution_count": 54,
   "id": "0d4ce69b",
   "metadata": {},
   "outputs": [
    {
     "data": {
      "text/plain": [
       "count    1305.000000\n",
       "mean       33.302978\n",
       "std        51.803069\n",
       "min         0.000000\n",
       "25%         7.895800\n",
       "50%        14.454200\n",
       "75%        31.275000\n",
       "max       512.329200\n",
       "Name: Fare, dtype: float64"
      ]
     },
     "execution_count": 54,
     "metadata": {},
     "output_type": "execute_result"
    }
   ],
   "source": [
    "df['Fare'].describe()"
   ]
  },
  {
   "cell_type": "markdown",
   "id": "cf80d555",
   "metadata": {},
   "source": [
    "Now, all values are normal and we can continue with the next feature"
   ]
  },
  {
   "cell_type": "code",
   "execution_count": 55,
   "id": "4bab98a6",
   "metadata": {},
   "outputs": [
    {
     "name": "stdout",
     "output_type": "stream",
     "text": [
      "<class 'pandas.core.series.Series'>\n",
      "RangeIndex: 1309 entries, 0 to 1308\n",
      "Series name: Cabin\n",
      "Non-Null Count  Dtype \n",
      "--------------  ----- \n",
      "295 non-null    object\n",
      "dtypes: object(1)\n",
      "memory usage: 10.4+ KB\n"
     ]
    }
   ],
   "source": [
    "df['Cabin'].info()"
   ]
  },
  {
   "cell_type": "code",
   "execution_count": 56,
   "id": "64af54ef",
   "metadata": {},
   "outputs": [
    {
     "data": {
      "text/plain": [
       "count             295\n",
       "unique            186\n",
       "top       C23 C25 C27\n",
       "freq                6\n",
       "Name: Cabin, dtype: object"
      ]
     },
     "execution_count": 56,
     "metadata": {},
     "output_type": "execute_result"
    }
   ],
   "source": [
    "df['Cabin'].describe()"
   ]
  },
  {
   "cell_type": "markdown",
   "id": "aa8ee9af",
   "metadata": {},
   "source": [
    "Cabin has alot of missing values and I believe that we should remove it from dataset. we leave it as it is for now.</br>\n",
    "Let's go to the next feature"
   ]
  },
  {
   "cell_type": "code",
   "execution_count": 57,
   "id": "2cc75368",
   "metadata": {},
   "outputs": [
    {
     "data": {
      "text/plain": [
       "count     1307\n",
       "unique       5\n",
       "top          S\n",
       "freq       912\n",
       "Name: Embarked, dtype: object"
      ]
     },
     "execution_count": 57,
     "metadata": {},
     "output_type": "execute_result"
    }
   ],
   "source": [
    "df['Embarked'].describe()"
   ]
  },
  {
   "cell_type": "code",
   "execution_count": 58,
   "id": "428eb264",
   "metadata": {},
   "outputs": [
    {
     "name": "stdout",
     "output_type": "stream",
     "text": [
      "<class 'pandas.core.series.Series'>\n",
      "RangeIndex: 1309 entries, 0 to 1308\n",
      "Series name: Embarked\n",
      "Non-Null Count  Dtype \n",
      "--------------  ----- \n",
      "1307 non-null   object\n",
      "dtypes: object(1)\n",
      "memory usage: 10.4+ KB\n"
     ]
    }
   ],
   "source": [
    "df['Embarked'].info()"
   ]
  },
  {
   "cell_type": "code",
   "execution_count": 59,
   "id": "2f6b90ad",
   "metadata": {},
   "outputs": [
    {
     "data": {
      "text/plain": [
       "array(['S', 'C', 'Q', nan, 's', 'q'], dtype=object)"
      ]
     },
     "execution_count": 59,
     "metadata": {},
     "output_type": "execute_result"
    }
   ],
   "source": [
    "df['Embarked'].unique()"
   ]
  },
  {
   "cell_type": "code",
   "execution_count": 60,
   "id": "4868e85f",
   "metadata": {},
   "outputs": [
    {
     "data": {
      "text/plain": [
       "S    912\n",
       "C    270\n",
       "Q    121\n",
       "s      2\n",
       "q      2\n",
       "Name: Embarked, dtype: int64"
      ]
     },
     "execution_count": 60,
     "metadata": {},
     "output_type": "execute_result"
    }
   ],
   "source": [
    "df['Embarked'].value_counts()"
   ]
  },
  {
   "cell_type": "markdown",
   "id": "e35dfb9c",
   "metadata": {},
   "source": [
    "Ok, it seems that lower case ***s*** and ***q*** should be convert to upper case.\n"
   ]
  },
  {
   "cell_type": "code",
   "execution_count": 61,
   "id": "d5f2f992",
   "metadata": {},
   "outputs": [],
   "source": [
    "df['Embarked'] = df['Embarked'].dropna().apply(str.upper)"
   ]
  },
  {
   "cell_type": "code",
   "execution_count": 62,
   "id": "7953ac59",
   "metadata": {},
   "outputs": [
    {
     "data": {
      "text/plain": [
       "S    914\n",
       "C    270\n",
       "Q    123\n",
       "Name: Embarked, dtype: int64"
      ]
     },
     "execution_count": 62,
     "metadata": {},
     "output_type": "execute_result"
    }
   ],
   "source": [
    "df['Embarked'].value_counts()"
   ]
  },
  {
   "cell_type": "code",
   "execution_count": 63,
   "id": "04fadd25",
   "metadata": {},
   "outputs": [
    {
     "name": "stdout",
     "output_type": "stream",
     "text": [
      "<class 'pandas.core.frame.DataFrame'>\n",
      "RangeIndex: 1309 entries, 0 to 1308\n",
      "Data columns (total 12 columns):\n",
      " #   Column       Non-Null Count  Dtype  \n",
      "---  ------       --------------  -----  \n",
      " 0   PassengerId  1309 non-null   int64  \n",
      " 1   Survived     1309 non-null   int64  \n",
      " 2   Pclass       1309 non-null   int64  \n",
      " 3   Name         1309 non-null   object \n",
      " 4   Sex          1309 non-null   object \n",
      " 5   Age          1041 non-null   float64\n",
      " 6   SibSp        1309 non-null   int64  \n",
      " 7   Parch        1309 non-null   int64  \n",
      " 8   Ticket       1309 non-null   object \n",
      " 9   Fare         1305 non-null   float64\n",
      " 10  Cabin        295 non-null    object \n",
      " 11  Embarked     1307 non-null   object \n",
      "dtypes: float64(2), int64(5), object(5)\n",
      "memory usage: 122.8+ KB\n"
     ]
    }
   ],
   "source": [
    "df.info()"
   ]
  },
  {
   "cell_type": "markdown",
   "id": "37c2eb2c",
   "metadata": {},
   "source": [
    "Ok, everything goes good and know we can start to deal with missing values"
   ]
  },
  {
   "cell_type": "markdown",
   "id": "3fe39d93",
   "metadata": {},
   "source": [
    "Now its time to get some information about relation between freatures and target value.</br>\n",
    "I don't think ***PassengerId*** has any relation with a high survival rate. same as ***Ticket*** and also ***Name*** of passengers.</br>\n",
    "let's check the others"
   ]
  },
  {
   "cell_type": "code",
   "execution_count": 64,
   "id": "19f638ec",
   "metadata": {},
   "outputs": [],
   "source": [
    "import matplotlib.pyplot as plt\n",
    "import seaborn as sns"
   ]
  },
  {
   "cell_type": "code",
   "execution_count": 65,
   "id": "e4f124a7",
   "metadata": {},
   "outputs": [],
   "source": [
    "survived = df['Survived'] == 1\n",
    "notsurvived = df['Survived'] == 0"
   ]
  },
  {
   "cell_type": "code",
   "execution_count": 66,
   "id": "1b07ab7e",
   "metadata": {},
   "outputs": [
    {
     "data": {
      "text/plain": [
       "[None, None, None, None]"
      ]
     },
     "execution_count": 66,
     "metadata": {},
     "output_type": "execute_result"
    },
    {
     "data": {
      "image/png": "[encoded data removed]",
      "text/plain": [
       "<Figure size 1000x1200 with 8 Axes>"
      ]
     },
     "metadata": {},
     "output_type": "display_data"
    }
   ],
   "source": [
    "figure, axes = plt.subplots(nrows=4, ncols=2, figsize=(10, 12))\n",
    "\n",
    "ax1 = sns.histplot(df[survived].Pclass.dropna(),ax=axes[0][0], label = 'survived', kde =False)\n",
    "ax1 = sns.histplot(df[notsurvived].Pclass.dropna(),ax=axes[0][0], label = 'not survived', kde =False)\n",
    "ax1.legend()\n",
    "plt.setp(ax1.get_legend().get_texts(), fontsize='12')\n",
    "# ax1.set_title('Pclass')\n",
    "\n",
    "ax2 = sns.histplot(df[survived].Sex.dropna(),ax=axes[0][1], label = 'survived', kde =False)\n",
    "ax2 = sns.histplot(df[notsurvived].Sex.dropna(),ax=axes[0][1], label = 'not survived', kde =False)\n",
    "ax2.legend()\n",
    "plt.setp(ax2.get_legend().get_texts(), fontsize='12')\n",
    "# ax2.set_title('Sex')\n",
    "\n",
    "ax3 = sns.histplot(df[survived].Age.dropna(),ax=axes[1][0], label = 'survived', kde =False)\n",
    "ax3 = sns.histplot(df[notsurvived].Age.dropna(),ax=axes[1][0], label = 'not survived', kde =False)\n",
    "ax3.legend()\n",
    "plt.setp(ax3.get_legend().get_texts(), fontsize='12')\n",
    "# ax3.set_title('Age')\n",
    "\n",
    "ax4 = sns.histplot(df[survived].SibSp.dropna(),ax=axes[1][1], label = 'survived', kde =False)\n",
    "ax4 = sns.histplot(df[notsurvived].SibSp.dropna(),ax=axes[1][1], label = 'not survived', kde =False)\n",
    "ax4.legend()\n",
    "plt.setp(ax4.get_legend().get_texts(), fontsize='12')\n",
    "# ax4.set_title('SibSp')\n",
    "\n",
    "ax5 = sns.histplot(df[survived].Parch.dropna(),ax=axes[2][0], label = 'survived', kde =False)\n",
    "ax5 = sns.histplot(df[notsurvived].Parch.dropna(),ax=axes[2][0], label = 'not survived', kde =False)\n",
    "ax5.legend()\n",
    "plt.setp(ax5.get_legend().get_texts(), fontsize='12')\n",
    "# ax5.set_title('Parch')\n",
    "\n",
    "ax6 = sns.histplot(df[survived].Fare.dropna(),ax=axes[2][1], label = 'survived', kde =False)\n",
    "ax6 = sns.histplot(df[notsurvived].Fare.dropna(),ax=axes[2][1], label = 'not survived', kde =False)\n",
    "ax6.legend()\n",
    "plt.setp(ax6.get_legend().get_texts(), fontsize='12')\n",
    "# ax6.set_title('Fare')\n",
    "\n",
    "ax7 = sns.histplot(df[survived].Cabin.dropna(),ax=axes[3][0], label = 'survived', kde =False)\n",
    "ax7 = sns.histplot(df[notsurvived].Cabin.dropna(),ax=axes[3][0], label = 'not survived', kde =False)\n",
    "ax7.legend()\n",
    "plt.setp(ax7.get_legend().get_texts(), fontsize='12')\n",
    "# ax7.set_title('Cabin')\n",
    "\n",
    "ax8 = sns.histplot(df[survived].Embarked.dropna(),ax=axes[3][1], label = 'survived', kde =False)\n",
    "ax8 = sns.histplot(df[notsurvived].Embarked.dropna(),ax=axes[3][1], label = 'not survived', kde =False)\n",
    "ax8.legend()\n",
    "plt.setp(ax8.get_legend().get_texts(), fontsize='12')\n",
    "# ax8.set_title('Embarked')"
   ]
  },
  {
   "cell_type": "markdown",
   "id": "08c78289",
   "metadata": {},
   "source": [
    "Plots shows that 'Pclass', 'Sex', 'Age', 'SibSp', 'Parch', 'Fare', And 'Embarked' may somehow related to survival of a passenger. but I can't say so for ***Cabin***. let's take a deeper look at its values"
   ]
  },
  {
   "cell_type": "code",
   "execution_count": 67,
   "id": "4331c00f",
   "metadata": {},
   "outputs": [
    {
     "data": {
      "text/plain": [
       "1        C85\n",
       "3       C123\n",
       "6        E46\n",
       "10        G6\n",
       "11      C103\n",
       "        ... \n",
       "1295     D40\n",
       "1296     D38\n",
       "1298     C80\n",
       "1302     C78\n",
       "1305    C105\n",
       "Name: Cabin, Length: 295, dtype: object"
      ]
     },
     "execution_count": 67,
     "metadata": {},
     "output_type": "execute_result"
    }
   ],
   "source": [
    "df['Cabin'].dropna()"
   ]
  },
  {
   "cell_type": "markdown",
   "id": "17b4ee63",
   "metadata": {},
   "source": [
    "it looks like every Cabin number starts with a letter and then a number. Let's split its letters"
   ]
  },
  {
   "cell_type": "code",
   "execution_count": 68,
   "id": "e67d7605",
   "metadata": {},
   "outputs": [
    {
     "data": {
      "text/plain": [
       "array(['C', 'E', 'G', 'D', 'A', 'B', 'F', 'T'], dtype=object)"
      ]
     },
     "execution_count": 68,
     "metadata": {},
     "output_type": "execute_result"
    }
   ],
   "source": [
    "df['Cabin'].str[0].dropna().unique()"
   ]
  },
  {
   "cell_type": "markdown",
   "id": "7e4b42e2",
   "metadata": {},
   "source": [
    "every Cabin number starts with a letter A-G and T . If this letters shows the position of Cabin in the ship, it may related to passengers survivals. as I mentioned before missing values in this feature is more than 77 percent. but if we extract the letters from Cabin number and then categorize passenger based on this letters and assume others as a seperate category then maybe this grouping help the machine for better learning. so let's do it"
   ]
  },
  {
   "cell_type": "code",
   "execution_count": 69,
   "id": "3edd21a1",
   "metadata": {},
   "outputs": [],
   "source": [
    "df['Cabin'] = df['Cabin'].str[0]"
   ]
  },
  {
   "cell_type": "code",
   "execution_count": 70,
   "id": "8319fb3c",
   "metadata": {},
   "outputs": [
    {
     "name": "stdout",
     "output_type": "stream",
     "text": [
      "<class 'pandas.core.series.Series'>\n",
      "RangeIndex: 1309 entries, 0 to 1308\n",
      "Series name: Cabin\n",
      "Non-Null Count  Dtype \n",
      "--------------  ----- \n",
      "295 non-null    object\n",
      "dtypes: object(1)\n",
      "memory usage: 10.4+ KB\n"
     ]
    }
   ],
   "source": [
    "df['Cabin'].info()"
   ]
  },
  {
   "cell_type": "code",
   "execution_count": 71,
   "id": "9ae08c0e",
   "metadata": {},
   "outputs": [
    {
     "data": {
      "text/plain": [
       "C    94\n",
       "B    65\n",
       "D    46\n",
       "E    41\n",
       "A    22\n",
       "F    21\n",
       "G     5\n",
       "T     1\n",
       "Name: Cabin, dtype: int64"
      ]
     },
     "execution_count": 71,
     "metadata": {},
     "output_type": "execute_result"
    }
   ],
   "source": [
    "df['Cabin'].value_counts()"
   ]
  },
  {
   "cell_type": "markdown",
   "id": "2cbe620f",
   "metadata": {},
   "source": [
    "## Dealing with missing values"
   ]
  },
  {
   "cell_type": "markdown",
   "id": "3bdeb125",
   "metadata": {},
   "source": [
    "First of all let's take a look at missing value statistic"
   ]
  },
  {
   "cell_type": "code",
   "execution_count": 72,
   "id": "c51d9ce6",
   "metadata": {},
   "outputs": [
    {
     "data": {
      "text/html": [
       "<div>\n",
       "<style scoped>\n",
       "    .dataframe tbody tr th:only-of-type {\n",
       "        vertical-align: middle;\n",
       "    }\n",
       "\n",
       "    .dataframe tbody tr th {\n",
       "        vertical-align: top;\n",
       "    }\n",
       "\n",
       "    .dataframe thead th {\n",
       "        text-align: right;\n",
       "    }\n",
       "</style>\n",
       "<table border=\"1\" class=\"dataframe\">\n",
       "  <thead>\n",
       "    <tr style=\"text-align: right;\">\n",
       "      <th></th>\n",
       "      <th>Total</th>\n",
       "      <th>%</th>\n",
       "    </tr>\n",
       "  </thead>\n",
       "  <tbody>\n",
       "    <tr>\n",
       "      <th>Cabin</th>\n",
       "      <td>1014</td>\n",
       "      <td>77.5</td>\n",
       "    </tr>\n",
       "    <tr>\n",
       "      <th>Age</th>\n",
       "      <td>268</td>\n",
       "      <td>20.5</td>\n",
       "    </tr>\n",
       "    <tr>\n",
       "      <th>Fare</th>\n",
       "      <td>4</td>\n",
       "      <td>0.3</td>\n",
       "    </tr>\n",
       "    <tr>\n",
       "      <th>Embarked</th>\n",
       "      <td>2</td>\n",
       "      <td>0.2</td>\n",
       "    </tr>\n",
       "    <tr>\n",
       "      <th>PassengerId</th>\n",
       "      <td>0</td>\n",
       "      <td>0.0</td>\n",
       "    </tr>\n",
       "    <tr>\n",
       "      <th>Survived</th>\n",
       "      <td>0</td>\n",
       "      <td>0.0</td>\n",
       "    </tr>\n",
       "    <tr>\n",
       "      <th>Pclass</th>\n",
       "      <td>0</td>\n",
       "      <td>0.0</td>\n",
       "    </tr>\n",
       "    <tr>\n",
       "      <th>Name</th>\n",
       "      <td>0</td>\n",
       "      <td>0.0</td>\n",
       "    </tr>\n",
       "    <tr>\n",
       "      <th>Sex</th>\n",
       "      <td>0</td>\n",
       "      <td>0.0</td>\n",
       "    </tr>\n",
       "    <tr>\n",
       "      <th>SibSp</th>\n",
       "      <td>0</td>\n",
       "      <td>0.0</td>\n",
       "    </tr>\n",
       "    <tr>\n",
       "      <th>Parch</th>\n",
       "      <td>0</td>\n",
       "      <td>0.0</td>\n",
       "    </tr>\n",
       "    <tr>\n",
       "      <th>Ticket</th>\n",
       "      <td>0</td>\n",
       "      <td>0.0</td>\n",
       "    </tr>\n",
       "  </tbody>\n",
       "</table>\n",
       "</div>"
      ],
      "text/plain": [
       "             Total     %\n",
       "Cabin         1014  77.5\n",
       "Age            268  20.5\n",
       "Fare             4   0.3\n",
       "Embarked         2   0.2\n",
       "PassengerId      0   0.0\n",
       "Survived         0   0.0\n",
       "Pclass           0   0.0\n",
       "Name             0   0.0\n",
       "Sex              0   0.0\n",
       "SibSp            0   0.0\n",
       "Parch            0   0.0\n",
       "Ticket           0   0.0"
      ]
     },
     "execution_count": 72,
     "metadata": {},
     "output_type": "execute_result"
    }
   ],
   "source": [
    "total = df.isnull().sum().sort_values(ascending=False)\n",
    "prcnt1 = df.isnull().sum()/df.isnull().count()*100\n",
    "prcnt2 = (round(prcnt1, 1)).sort_values(ascending=False)\n",
    "missing_data = pd.concat([total, prcnt2], axis=1, keys=['Total', '%'])\n",
    "missing_data"
   ]
  },
  {
   "cell_type": "markdown",
   "id": "dd5e5ee5",
   "metadata": {},
   "source": [
    "***Cabin*** with more than 77 percent missing values should has been removed from Dataset but with last change we provide on the values now we can assume missing values as a separate category and keep moving</br>\n",
    "***Fare*** and ***Embarked*** with less than 1 percent missing values can fill with proper values </br>\n",
    "but dealing with ***Age*** is more tricky and needs more investigation.</br>\n",
    "for now let's take care of ***Fare*** and ***Embarked***"
   ]
  },
  {
   "cell_type": "code",
   "execution_count": 73,
   "id": "afc1b5a1",
   "metadata": {},
   "outputs": [
    {
     "data": {
      "text/plain": [
       "S    914\n",
       "C    270\n",
       "Q    123\n",
       "Name: Embarked, dtype: int64"
      ]
     },
     "execution_count": 73,
     "metadata": {},
     "output_type": "execute_result"
    }
   ],
   "source": [
    "df['Embarked'].value_counts()"
   ]
  },
  {
   "cell_type": "markdown",
   "id": "35734b7a",
   "metadata": {},
   "source": [
    "**S** has more freq so we fill missing values with this value. "
   ]
  },
  {
   "cell_type": "code",
   "execution_count": 74,
   "id": "9a4aa730",
   "metadata": {},
   "outputs": [],
   "source": [
    "df['Embarked'].fillna('S', inplace=True)"
   ]
  },
  {
   "cell_type": "code",
   "execution_count": 75,
   "id": "5d0cb1e9",
   "metadata": {},
   "outputs": [
    {
     "name": "stdout",
     "output_type": "stream",
     "text": [
      "<class 'pandas.core.series.Series'>\n",
      "RangeIndex: 1309 entries, 0 to 1308\n",
      "Series name: Fare\n",
      "Non-Null Count  Dtype  \n",
      "--------------  -----  \n",
      "1305 non-null   float64\n",
      "dtypes: float64(1)\n",
      "memory usage: 10.4 KB\n"
     ]
    }
   ],
   "source": [
    "df['Fare'].info()"
   ]
  },
  {
   "cell_type": "code",
   "execution_count": 76,
   "id": "8bae18a7",
   "metadata": {},
   "outputs": [
    {
     "data": {
      "text/plain": [
       "count    1305.000000\n",
       "mean       33.302978\n",
       "std        51.803069\n",
       "min         0.000000\n",
       "25%         7.895800\n",
       "50%        14.454200\n",
       "75%        31.275000\n",
       "max       512.329200\n",
       "Name: Fare, dtype: float64"
      ]
     },
     "execution_count": 76,
     "metadata": {},
     "output_type": "execute_result"
    }
   ],
   "source": [
    "df['Fare'].describe()"
   ]
  },
  {
   "cell_type": "markdown",
   "id": "13460031",
   "metadata": {},
   "source": [
    "We have **0** in values so I simple fill missing values with **0**"
   ]
  },
  {
   "cell_type": "code",
   "execution_count": 77,
   "id": "b1b5eb03",
   "metadata": {},
   "outputs": [],
   "source": [
    "df['Fare'].fillna(0, inplace=True)"
   ]
  },
  {
   "cell_type": "code",
   "execution_count": 78,
   "id": "128447fb",
   "metadata": {},
   "outputs": [
    {
     "name": "stdout",
     "output_type": "stream",
     "text": [
      "<class 'pandas.core.series.Series'>\n",
      "RangeIndex: 1309 entries, 0 to 1308\n",
      "Series name: Fare\n",
      "Non-Null Count  Dtype  \n",
      "--------------  -----  \n",
      "1309 non-null   float64\n",
      "dtypes: float64(1)\n",
      "memory usage: 10.4 KB\n"
     ]
    }
   ],
   "source": [
    "df['Fare'].info()"
   ]
  },
  {
   "cell_type": "markdown",
   "id": "fbf872db",
   "metadata": {},
   "source": [
    "Now it's time to take care of ***Age*** missing Values."
   ]
  },
  {
   "cell_type": "code",
   "execution_count": 79,
   "id": "0aed4d7e",
   "metadata": {},
   "outputs": [
    {
     "data": {
      "text/plain": [
       "count    1041.000000\n",
       "mean       29.873842\n",
       "std        14.401212\n",
       "min         0.170000\n",
       "25%        21.000000\n",
       "50%        28.000000\n",
       "75%        39.000000\n",
       "max        80.000000\n",
       "Name: Age, dtype: float64"
      ]
     },
     "execution_count": 79,
     "metadata": {},
     "output_type": "execute_result"
    }
   ],
   "source": [
    "df['Age'].describe()"
   ]
  },
  {
   "cell_type": "markdown",
   "id": "a2c15d6e",
   "metadata": {},
   "source": [
    "I want to show how you can fill missing values with random values in range of most freq values (mean-std - mean+std)."
   ]
  },
  {
   "cell_type": "code",
   "execution_count": 80,
   "id": "20c85561",
   "metadata": {},
   "outputs": [],
   "source": [
    "# Create a series of random Age as many as missing values\n",
    "random_ages = np.random.randint(df['Age'].mean() - df['Age'].std(), \n",
    "                                df['Age'].mean() + df['Age'].std(), \n",
    "                                size = df['Age'].isnull().sum())\n",
    "\n",
    "copy_ages = df['Age'].copy()\n",
    "# Create a copy of Age feature\n",
    "\n",
    "copy_ages[np.isnan(copy_ages)] = random_ages\n",
    "# Fill missing values with random values we just created"
   ]
  },
  {
   "cell_type": "markdown",
   "id": "dc7fab36",
   "metadata": {},
   "source": [
    "At the end Replace filled Column with old column with this line of code:</br>\n",
    "df['Age'] = copy_ages </br>\n",
    "\n",
    "but I don't want to go this way</br>\n",
    "I believe that Age of passengers is corelated to passenger's survival and I don't want to currupt existing information about their age by mixing them with some random numbers. so I simply leave them as they currently are. so missing values create a new category in next steps as *unknown*\n",
    "\n",
    "Dealing with missing values finished here and we countinue our journey by dealing with unnecessary features"
   ]
  },
  {
   "cell_type": "code",
   "execution_count": 81,
   "id": "573ee519",
   "metadata": {},
   "outputs": [
    {
     "name": "stdout",
     "output_type": "stream",
     "text": [
      "<class 'pandas.core.frame.DataFrame'>\n",
      "RangeIndex: 1309 entries, 0 to 1308\n",
      "Data columns (total 12 columns):\n",
      " #   Column       Non-Null Count  Dtype  \n",
      "---  ------       --------------  -----  \n",
      " 0   PassengerId  1309 non-null   int64  \n",
      " 1   Survived     1309 non-null   int64  \n",
      " 2   Pclass       1309 non-null   int64  \n",
      " 3   Name         1309 non-null   object \n",
      " 4   Sex          1309 non-null   object \n",
      " 5   Age          1041 non-null   float64\n",
      " 6   SibSp        1309 non-null   int64  \n",
      " 7   Parch        1309 non-null   int64  \n",
      " 8   Ticket       1309 non-null   object \n",
      " 9   Fare         1309 non-null   float64\n",
      " 10  Cabin        295 non-null    object \n",
      " 11  Embarked     1309 non-null   object \n",
      "dtypes: float64(2), int64(5), object(5)\n",
      "memory usage: 122.8+ KB\n"
     ]
    }
   ],
   "source": [
    "df.info()"
   ]
  },
  {
   "cell_type": "markdown",
   "id": "ae6b90d5",
   "metadata": {},
   "source": [
    "I believe that **PassengerId** has no relation to passenger survival. So I put it in the removable list. passenger **Name** and **Ticket** number can't effect Survival status so I put these attributes in removable list too.\n",
    "Other attributes may have correlation with Survival status.\n",
    "\n",
    "Let's take care of removable list"
   ]
  },
  {
   "cell_type": "code",
   "execution_count": 82,
   "id": "eab8b241",
   "metadata": {},
   "outputs": [],
   "source": [
    "df.drop(['PassengerId', 'Name', 'Ticket'], axis=1, inplace=True)"
   ]
  },
  {
   "cell_type": "code",
   "execution_count": 83,
   "id": "9f40c5a7",
   "metadata": {},
   "outputs": [
    {
     "name": "stdout",
     "output_type": "stream",
     "text": [
      "<class 'pandas.core.frame.DataFrame'>\n",
      "RangeIndex: 1309 entries, 0 to 1308\n",
      "Data columns (total 9 columns):\n",
      " #   Column    Non-Null Count  Dtype  \n",
      "---  ------    --------------  -----  \n",
      " 0   Survived  1309 non-null   int64  \n",
      " 1   Pclass    1309 non-null   int64  \n",
      " 2   Sex       1309 non-null   object \n",
      " 3   Age       1041 non-null   float64\n",
      " 4   SibSp     1309 non-null   int64  \n",
      " 5   Parch     1309 non-null   int64  \n",
      " 6   Fare      1309 non-null   float64\n",
      " 7   Cabin     295 non-null    object \n",
      " 8   Embarked  1309 non-null   object \n",
      "dtypes: float64(2), int64(4), object(3)\n",
      "memory usage: 92.2+ KB\n"
     ]
    }
   ],
   "source": [
    "df.info()"
   ]
  },
  {
   "cell_type": "markdown",
   "id": "f46148e5",
   "metadata": {},
   "source": [
    "Now, it's time to check relation possibilities between attributes and target value. </br>"
   ]
  },
  {
   "cell_type": "markdown",
   "id": "dc9b7b19",
   "metadata": {},
   "source": [
    "## Age and Sex\n"
   ]
  },
  {
   "cell_type": "code",
   "execution_count": 102,
   "id": "63c33f12",
   "metadata": {},
   "outputs": [
    {
     "data": {
      "text/plain": [
       "<seaborn.axisgrid.FacetGrid at 0x28ede60e7d0>"
      ]
     },
     "execution_count": 102,
     "metadata": {},
     "output_type": "execute_result"
    },
    {
     "data": {
      "image/png": "[encoded data removed]",
      "text/plain": [
       "<Figure size 572.111x500 with 1 Axes>"
      ]
     },
     "metadata": {},
     "output_type": "display_data"
    }
   ],
   "source": [
    "sns.displot(x='Age', hue='Survived', multiple='stack', data=df)"
   ]
  },
  {
   "cell_type": "code",
   "execution_count": 104,
   "id": "da3e3270",
   "metadata": {},
   "outputs": [
    {
     "data": {
      "text/plain": [
       "<Axes: xlabel='Sex', ylabel='count'>"
      ]
     },
     "execution_count": 104,
     "metadata": {},
     "output_type": "execute_result"
    },
    {
     "data": {
      "image/png": "[encoded data removed]",
      "text/plain": [
       "<Figure size 640x480 with 1 Axes>"
      ]
     },
     "metadata": {},
     "output_type": "display_data"
    }
   ],
   "source": [
    "sns.countplot(x='Sex', hue='Survived', data=df)"
   ]
  },
  {
   "cell_type": "code",
   "execution_count": 111,
   "id": "b30be79b",
   "metadata": {},
   "outputs": [
    {
     "data": {
      "text/plain": [
       "<seaborn.axisgrid.FacetGrid at 0x28ee19c1e50>"
      ]
     },
     "execution_count": 111,
     "metadata": {},
     "output_type": "execute_result"
    },
    {
     "data": {
      "image/png": "[encoded data removed]",
      "text/plain": [
       "<Figure size 491.111x600 with 2 Axes>"
      ]
     },
     "metadata": {},
     "output_type": "display_data"
    }
   ],
   "source": [
    "fg = sns.FacetGrid(df, row='Survived', aspect=1.6)\n",
    "fg.map(sns.pointplot, 'Sex', 'Age', palette=None,  order=None, hue_order=None )\n",
    "fg.add_legend()"
   ]
  },
  {
   "cell_type": "markdown",
   "id": "67a7d508",
   "metadata": {},
   "source": [
    "## Pclass"
   ]
  },
  {
   "cell_type": "code",
   "execution_count": 113,
   "id": "1fcb6bd6",
   "metadata": {},
   "outputs": [
    {
     "data": {
      "text/plain": [
       "<Axes: xlabel='Pclass', ylabel='count'>"
      ]
     },
     "execution_count": 113,
     "metadata": {},
     "output_type": "execute_result"
    },
    {
     "data": {
      "image/png": "[encoded data removed]",
      "text/plain": [
       "<Figure size 640x480 with 1 Axes>"
      ]
     },
     "metadata": {},
     "output_type": "display_data"
    }
   ],
   "source": [
    "sns.countplot(x='Pclass', data=df)"
   ]
  },
  {
   "cell_type": "code",
   "execution_count": 115,
   "id": "0d9bf2c7",
   "metadata": {},
   "outputs": [
    {
     "data": {
      "text/plain": [
       "<Axes: xlabel='Pclass', ylabel='count'>"
      ]
     },
     "execution_count": 115,
     "metadata": {},
     "output_type": "execute_result"
    },
    {
     "data": {
      "image/png": "[encoded data removed]",
      "text/plain": [
       "<Figure size 640x480 with 1 Axes>"
      ]
     },
     "metadata": {},
     "output_type": "display_data"
    }
   ],
   "source": [
    "sns.countplot(x='Pclass', data=df, hue='Survived', palette='rainbow')"
   ]
  },
  {
   "cell_type": "code",
   "execution_count": 147,
   "id": "a32f1a5d",
   "metadata": {},
   "outputs": [
    {
     "data": {
      "text/plain": [
       "([<matplotlib.patches.Wedge at 0x28ee4821f90>,\n",
       "  <matplotlib.patches.Wedge at 0x28ee4822d10>,\n",
       "  <matplotlib.patches.Wedge at 0x28ee4823b50>],\n",
       " [Text(0.7857105465133536, 0.7698434497335723, '1'),\n",
       "  Text(-0.6607895333039293, 0.8794072962376283, '2'),\n",
       "  Text(-0.14346972497658556, -1.0906037034666365, '3')])"
      ]
     },
     "execution_count": 147,
     "metadata": {},
     "output_type": "execute_result"
    },
    {
     "data": {
      "image/png": "[encoded data removed]",
      "text/plain": [
       "<Figure size 640x480 with 1 Axes>"
      ]
     },
     "metadata": {},
     "output_type": "display_data"
    }
   ],
   "source": [
    "pclass = pd.DataFrame()\n",
    "pclass['cnt'] = df.groupby('Pclass')['Pclass'].count()\n",
    "\n",
    "pclass['prcnt'] = pclass['cnt'] / sum(pclass['cnt']) * 100\n",
    "\n",
    "plt.pie(x='prcnt', data=pclass, labels=pclass.index)"
   ]
  },
  {
   "cell_type": "code",
   "execution_count": 148,
   "id": "d7fa46b0",
   "metadata": {},
   "outputs": [
    {
     "data": {
      "text/plain": [
       "<matplotlib.legend.Legend at 0x28ee486d4d0>"
      ]
     },
     "execution_count": 148,
     "metadata": {},
     "output_type": "execute_result"
    },
    {
     "data": {
      "image/png": "[encoded data removed]",
      "text/plain": [
       "<Figure size 640x480 with 1 Axes>"
      ]
     },
     "metadata": {},
     "output_type": "display_data"
    }
   ],
   "source": [
    "pclass2 = pd.DataFrame()\n",
    "pclass2['cnt'] = df.groupby(['Survived', 'Pclass'])['Pclass'].count()\n",
    "\n",
    "\n",
    "pclass2['prcnt'] = pclass2['cnt'] / sum(pclass2['cnt']) * 100\n",
    "\n",
    "plt.pie(x='prcnt', data=pclass2, labels=pclass2.index,startangle = 90)\n",
    "plt.legend()"
   ]
  },
  {
   "cell_type": "code",
   "execution_count": null,
   "id": "6529e6af",
   "metadata": {},
   "outputs": [],
   "source": []
  }
 ],
 "metadata": {
  "kernelspec": {
   "display_name": "Python 3 (ipykernel)",
   "language": "python",
   "name": "python3"
  },
  "language_info": {
   "codemirror_mode": {
    "name": "ipython",
    "version": 3
   },
   "file_extension": ".py",
   "mimetype": "text/x-python",
   "name": "python",
   "nbconvert_exporter": "python",
   "pygments_lexer": "ipython3",
   "version": "3.11.2"
  }
 },
 "nbformat": 4,
 "nbformat_minor": 5
}
